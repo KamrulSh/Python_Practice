{
 "cells": [
  {
   "cell_type": "code",
   "execution_count": 1,
   "metadata": {},
   "outputs": [
    {
     "name": "stdout",
     "output_type": "stream",
     "text": [
      "Hello World!\n",
      "Hello\n",
      "Hello anaconda!\n"
     ]
    }
   ],
   "source": [
    "print(\"Hello World!\")\n",
    "print('Hello')\n",
    "print(\"Hello\", \"anaconda!\")"
   ]
  },
  {
   "cell_type": "code",
   "execution_count": 2,
   "metadata": {},
   "outputs": [
    {
     "name": "stdout",
     "output_type": "stream",
     "text": [
      "I 'stored' this\n",
      "I \"sorted\" this\n"
     ]
    }
   ],
   "source": [
    "print(\"I 'stored' this\")\n",
    "print('I \"sorted\" this')"
   ]
  },
  {
   "cell_type": "code",
   "execution_count": 3,
   "metadata": {},
   "outputs": [
    {
     "name": "stdout",
     "output_type": "stream",
     "text": [
      "He'd said, \"I love this.\" \n",
      "    He'd said,\n",
      "    \"I love this.\" \n"
     ]
    }
   ],
   "source": [
    "print(\"He'd \" + \"said, \" + '\"I love this.\" ')\n",
    "print(\"\"\"    He'd said,\n",
    "    \"I love this.\" \"\"\")"
   ]
  },
  {
   "cell_type": "code",
   "execution_count": 4,
   "metadata": {},
   "outputs": [
    {
     "name": "stdout",
     "output_type": "stream",
     "text": [
      "hello hello hello hello hello hello hello hello hello hello \n"
     ]
    }
   ],
   "source": [
    "print(\"hello \" * 10)"
   ]
  },
  {
   "cell_type": "code",
   "execution_count": 5,
   "metadata": {},
   "outputs": [
    {
     "name": "stdout",
     "output_type": "stream",
     "text": [
      "c:\\docs\n",
      "apro\n"
     ]
    }
   ],
   "source": [
    "print(\"c:\\docs\\napro\")"
   ]
  },
  {
   "cell_type": "markdown",
   "metadata": {},
   "source": [
    "### prints raw string"
   ]
  },
  {
   "cell_type": "code",
   "execution_count": 6,
   "metadata": {},
   "outputs": [
    {
     "name": "stdout",
     "output_type": "stream",
     "text": [
      "c:\\docs\\napro\n"
     ]
    }
   ],
   "source": [
    "print(r\"c:\\docs\\napro\")"
   ]
  }
 ],
 "metadata": {
  "kernelspec": {
   "display_name": "Python 3",
   "language": "python",
   "name": "python3"
  },
  "language_info": {
   "codemirror_mode": {
    "name": "ipython",
    "version": 3
   },
   "file_extension": ".py",
   "mimetype": "text/x-python",
   "name": "python",
   "nbconvert_exporter": "python",
   "pygments_lexer": "ipython3",
   "version": "3.7.3"
  }
 },
 "nbformat": 4,
 "nbformat_minor": 2
}
