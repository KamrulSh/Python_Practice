{
 "cells": [
  {
   "cell_type": "code",
   "execution_count": 1,
   "metadata": {},
   "outputs": [
    {
     "name": "stdout",
     "output_type": "stream",
     "text": [
      "Mon Tue Wed Thu Fri Sat Sun\n"
     ]
    }
   ],
   "source": [
    "days = \"Mon Tue Wed Thu Fri Sat Sun\"\n",
    "print(days)"
   ]
  },
  {
   "cell_type": "code",
   "execution_count": 2,
   "metadata": {},
   "outputs": [
    {
     "name": "stdout",
     "output_type": "stream",
     "text": [
      "dfd skdjfvhds\n",
      "dfgdgd\n",
      "    dfgdgfd\n",
      "dfgfdg\n",
      "    dfgfdgfdg\n",
      "fdgasfsa\n"
     ]
    }
   ],
   "source": [
    "print(\"\"\"dfd skdjfvhds\n",
    "dfgdgd\n",
    "    dfgdgfd\n",
    "dfgfdg\n",
    "    dfgfdgfdg\n",
    "fdgasfsa\"\"\")"
   ]
  },
  {
   "cell_type": "markdown",
   "metadata": {},
   "source": [
    "# string concatanation"
   ]
  },
  {
   "cell_type": "code",
   "execution_count": 3,
   "metadata": {},
   "outputs": [
    {
     "name": "stdout",
     "output_type": "stream",
     "text": [
      "shahin@gmail.com\n"
     ]
    }
   ],
   "source": [
    "print('shahin' + '@gmail' + \".com\")"
   ]
  },
  {
   "cell_type": "code",
   "execution_count": 4,
   "metadata": {},
   "outputs": [
    {
     "name": "stdout",
     "output_type": "stream",
     "text": [
      "shahin@gmail.com\n"
     ]
    }
   ],
   "source": [
    "first = 'shahin'\n",
    "second = '@gmail'\n",
    "third = '.com'\n",
    "cat = first + second + third\n",
    "print(cat)"
   ]
  },
  {
   "cell_type": "code",
   "execution_count": 5,
   "metadata": {},
   "outputs": [
    {
     "data": {
      "text/plain": [
       "16"
      ]
     },
     "execution_count": 5,
     "metadata": {},
     "output_type": "execute_result"
    }
   ],
   "source": [
    "len(cat)"
   ]
  },
  {
   "cell_type": "code",
   "execution_count": 6,
   "metadata": {},
   "outputs": [
    {
     "name": "stdout",
     "output_type": "stream",
     "text": [
      "0  s  -16\n",
      "1  h  -15\n",
      "2  a  -14\n",
      "3  h  -13\n",
      "4  i  -12\n",
      "5  n  -11\n",
      "6  @  -10\n",
      "7  g  -9\n",
      "8  m  -8\n",
      "9  a  -7\n",
      "10  i  -6\n",
      "11  l  -5\n",
      "12  .  -4\n",
      "13  c  -3\n",
      "14  o  -2\n",
      "15  m  -1\n"
     ]
    }
   ],
   "source": [
    "i = 0\n",
    "l = len(cat)\n",
    "for i in range(i,l):\n",
    "    print(f\"{i}  {cat[i]}  {i-l}\")\n",
    "    i+=1"
   ]
  },
  {
   "cell_type": "code",
   "execution_count": 7,
   "metadata": {},
   "outputs": [
    {
     "data": {
      "text/plain": [
       "'n@gm'"
      ]
     },
     "execution_count": 7,
     "metadata": {},
     "output_type": "execute_result"
    }
   ],
   "source": [
    "cat[5:9]"
   ]
  },
  {
   "cell_type": "code",
   "execution_count": 8,
   "metadata": {},
   "outputs": [
    {
     "data": {
      "text/plain": [
       "'n@gmail.com'"
      ]
     },
     "execution_count": 8,
     "metadata": {},
     "output_type": "execute_result"
    }
   ],
   "source": [
    "cat[5:]"
   ]
  },
  {
   "cell_type": "code",
   "execution_count": 9,
   "metadata": {},
   "outputs": [
    {
     "data": {
      "text/plain": [
       "'n@gmail.com'"
      ]
     },
     "execution_count": 9,
     "metadata": {},
     "output_type": "execute_result"
    }
   ],
   "source": [
    "cat[5:19]"
   ]
  },
  {
   "cell_type": "code",
   "execution_count": 10,
   "metadata": {},
   "outputs": [
    {
     "data": {
      "text/plain": [
       "'kamrul@gmail.com'"
      ]
     },
     "execution_count": 10,
     "metadata": {},
     "output_type": "execute_result"
    }
   ],
   "source": [
    "'kamrul' + cat[6:]"
   ]
  },
  {
   "cell_type": "code",
   "execution_count": 11,
   "metadata": {},
   "outputs": [
    {
     "data": {
      "text/plain": [
       "'m'"
      ]
     },
     "execution_count": 11,
     "metadata": {},
     "output_type": "execute_result"
    }
   ],
   "source": [
    "cat[-1]"
   ]
  },
  {
   "cell_type": "code",
   "execution_count": 12,
   "metadata": {},
   "outputs": [
    {
     "data": {
      "text/plain": [
       "'@gmail'"
      ]
     },
     "execution_count": 12,
     "metadata": {},
     "output_type": "execute_result"
    }
   ],
   "source": [
    "cat[-10:-4]"
   ]
  },
  {
   "cell_type": "markdown",
   "metadata": {},
   "source": [
    "### string is immutable"
   ]
  },
  {
   "cell_type": "code",
   "execution_count": 13,
   "metadata": {},
   "outputs": [],
   "source": [
    "# cat[5] = 'd'"
   ]
  },
  {
   "cell_type": "markdown",
   "metadata": {},
   "source": [
    "# some string format"
   ]
  },
  {
   "cell_type": "code",
   "execution_count": 14,
   "metadata": {},
   "outputs": [
    {
     "name": "stdout",
     "output_type": "stream",
     "text": [
      "There are 10 types of people.\n",
      "Those who know binary and those who don't.\n",
      "I said: There are 10 types of people.\n",
      "I also said: \"Those who know binary and those who don't.\"\n"
     ]
    }
   ],
   "source": [
    "types_of_people = 10\n",
    "x = f\"There are {types_of_people} types of people.\"\n",
    "print(x)\n",
    "\n",
    "binary = \"binary\"\n",
    "do_not = \"don't\"\n",
    "y = f\"Those who know {binary} and those who {do_not}.\"\n",
    "print(y)\n",
    "\n",
    "print(f\"I said: {x}\")\n",
    "print(f'I also said: \"{y}\"')"
   ]
  },
  {
   "cell_type": "markdown",
   "metadata": {},
   "source": [
    "# more complicated formatting of a string"
   ]
  },
  {
   "cell_type": "code",
   "execution_count": 15,
   "metadata": {},
   "outputs": [
    {
     "name": "stdout",
     "output_type": "stream",
     "text": [
      "1 2 3 4\n",
      "one two three four\n",
      "True False False <class 'bool'>\n",
      "{} {} {} {} {} {} {} {} {} {} {} {} {} {} {} {}\n"
     ]
    }
   ],
   "source": [
    "formatter = \"{} {} {} {}\"\n",
    "\n",
    "print(formatter.format(1, 2, 3, 4))\n",
    "print(formatter.format(\"one\", \"two\", \"three\", \"four\", \"five\"))\n",
    "print(formatter.format(True, False, False, bool))\n",
    "print(formatter.format(formatter, formatter, formatter, formatter))"
   ]
  }
 ],
 "metadata": {
  "kernelspec": {
   "display_name": "Python 3",
   "language": "python",
   "name": "python3"
  },
  "language_info": {
   "codemirror_mode": {
    "name": "ipython",
    "version": 3
   },
   "file_extension": ".py",
   "mimetype": "text/x-python",
   "name": "python",
   "nbconvert_exporter": "python",
   "pygments_lexer": "ipython3",
   "version": "3.7.3"
  }
 },
 "nbformat": 4,
 "nbformat_minor": 2
}
