{
 "cells": [
  {
   "cell_type": "markdown",
   "metadata": {},
   "source": [
    "# Python program to illustrate list"
   ]
  },
  {
   "cell_type": "code",
   "execution_count": 1,
   "metadata": {},
   "outputs": [],
   "source": [
    "pi = 3.1416\n",
    "listName = [] # empty list \n",
    "#print(listname)"
   ]
  },
  {
   "cell_type": "markdown",
   "metadata": {},
   "source": [
    "# add item to the list"
   ]
  },
  {
   "cell_type": "code",
   "execution_count": 2,
   "metadata": {},
   "outputs": [
    {
     "name": "stdout",
     "output_type": "stream",
     "text": [
      "[44, 'a', 'It is a string', 2.2354325, 4e-10, 3.1416, 3.142857142857143]\n"
     ]
    }
   ],
   "source": [
    "listName.append(44)\n",
    "listName.append('a')\n",
    "listName.append(\"It is a string\")\n",
    "listName.append(2.2354325)\n",
    "listName.append(4e-10)\n",
    "listName.append(pi)\n",
    "listName.append(22/7)\n",
    "print(listName)"
   ]
  },
  {
   "cell_type": "code",
   "execution_count": 3,
   "metadata": {},
   "outputs": [
    {
     "name": "stdout",
     "output_type": "stream",
     "text": [
      "[44, 'a', 'It is a string', 2.2354325, 4e-10, 3.1416]\n",
      "<class 'float'>\n",
      "4\n"
     ]
    }
   ],
   "source": [
    "listName.remove(22/7)\n",
    "print(listName)\n",
    "\n",
    "print(type(listName[5]))\n",
    "\n",
    "# index\n",
    "\n",
    "exp_index = listName.index(4e-10)\n",
    "print(exp_index)"
   ]
  },
  {
   "cell_type": "code",
   "execution_count": 4,
   "metadata": {},
   "outputs": [
    {
     "name": "stdout",
     "output_type": "stream",
     "text": [
      "44\n"
     ]
    }
   ],
   "source": [
    "print(listName[0])"
   ]
  },
  {
   "cell_type": "code",
   "execution_count": 5,
   "metadata": {},
   "outputs": [
    {
     "name": "stdout",
     "output_type": "stream",
     "text": [
      "[1, 333, 'halk']\n",
      "3\n",
      "[1, 333, 'halk', 0.03]\n",
      "4\n"
     ]
    }
   ],
   "source": [
    "list1 = [1,333,\"halk\"]\n",
    "print(list1)\n",
    "len1 = len(list1)\n",
    "print(len1)\n",
    "list1.append(3e-2)\n",
    "print(list1)\n",
    "len1 = len(list1)\n",
    "print(len1)"
   ]
  },
  {
   "cell_type": "markdown",
   "metadata": {},
   "source": [
    "# nested list"
   ]
  },
  {
   "cell_type": "code",
   "execution_count": 3,
   "metadata": {},
   "outputs": [
    {
     "name": "stdout",
     "output_type": "stream",
     "text": [
      "[1, 'wer', 45, [44, 11, 'art', [34, 'sort']]]\n"
     ]
    }
   ],
   "source": [
    "nested_list = [1, 'wer', 45, [44, 11, 'art', [34, 'sort']]]\n",
    "print(nested_list)"
   ]
  },
  {
   "cell_type": "code",
   "execution_count": 5,
   "metadata": {},
   "outputs": [
    {
     "data": {
      "text/plain": [
       "[44, 11, 'art', [34, 'sort']]"
      ]
     },
     "execution_count": 5,
     "metadata": {},
     "output_type": "execute_result"
    }
   ],
   "source": [
    "nested_list[3]"
   ]
  },
  {
   "cell_type": "code",
   "execution_count": 6,
   "metadata": {},
   "outputs": [
    {
     "data": {
      "text/plain": [
       "'art'"
      ]
     },
     "execution_count": 6,
     "metadata": {},
     "output_type": "execute_result"
    }
   ],
   "source": [
    "nested_list[3][2]"
   ]
  },
  {
   "cell_type": "code",
   "execution_count": 8,
   "metadata": {},
   "outputs": [
    {
     "name": "stdout",
     "output_type": "stream",
     "text": [
      "a\n"
     ]
    }
   ],
   "source": [
    "print(nested_list[3][2][0])"
   ]
  },
  {
   "cell_type": "code",
   "execution_count": null,
   "metadata": {},
   "outputs": [],
   "source": [
    "print(nested_list[3][2][0])"
   ]
  },
  {
   "cell_type": "markdown",
   "metadata": {},
   "source": [
    "# list slicing"
   ]
  },
  {
   "cell_type": "code",
   "execution_count": 6,
   "metadata": {},
   "outputs": [
    {
     "name": "stdout",
     "output_type": "stream",
     "text": [
      "['Day', 'Night', 'Song', 'Frisbee']\n"
     ]
    }
   ],
   "source": [
    "list_things = [\"Day\", \"Night\", \"Song\", \"Frisbee\", \"Corn\", \"Banana\", \"Girl\", \"Boy\"]\n",
    "print(list_things[0:4])"
   ]
  },
  {
   "cell_type": "code",
   "execution_count": 7,
   "metadata": {},
   "outputs": [
    {
     "name": "stdout",
     "output_type": "stream",
     "text": [
      "['Day', 'Night', 'Song', 'Frisbee']\n"
     ]
    }
   ],
   "source": [
    "print(list_things[:4])"
   ]
  },
  {
   "cell_type": "code",
   "execution_count": 8,
   "metadata": {},
   "outputs": [
    {
     "name": "stdout",
     "output_type": "stream",
     "text": [
      "['Corn', 'Banana', 'Girl', 'Boy']\n"
     ]
    }
   ],
   "source": [
    "print(list_things[4:])"
   ]
  },
  {
   "cell_type": "code",
   "execution_count": 9,
   "metadata": {},
   "outputs": [
    {
     "name": "stdout",
     "output_type": "stream",
     "text": [
      "['Night', 'Song', 'Frisbee', 'Corn', 'Banana', 'Girl']\n"
     ]
    }
   ],
   "source": [
    "# All the items except the first and last\n",
    "print(list_things[1:-1])"
   ]
  },
  {
   "cell_type": "code",
   "execution_count": 10,
   "metadata": {},
   "outputs": [
    {
     "name": "stdout",
     "output_type": "stream",
     "text": [
      "['Banana', 'Girl', 'Boy']\n"
     ]
    }
   ],
   "source": [
    "# The last 3 items\n",
    "print(list_things[-3:])"
   ]
  },
  {
   "cell_type": "code",
   "execution_count": 11,
   "metadata": {},
   "outputs": [
    {
     "name": "stdout",
     "output_type": "stream",
     "text": [
      "['Day', 'Night', 'Song', 'Frisbee', 'Corn']\n"
     ]
    }
   ],
   "source": [
    "# except the last 3 items\n",
    "print(list_things[:-3])"
   ]
  },
  {
   "cell_type": "markdown",
   "metadata": {},
   "source": [
    "# changing list items "
   ]
  },
  {
   "cell_type": "code",
   "execution_count": 12,
   "metadata": {},
   "outputs": [
    {
     "name": "stdout",
     "output_type": "stream",
     "text": [
      "['Apples', 'Oranges', 'Crows', 'Telephone', 'Light', 'Sugar']\n",
      "['Apples', 'Oranges', 'Crows', 'Mango', 'Light', 'Sugar']\n"
     ]
    }
   ],
   "source": [
    "six_things = ['Apples', 'Oranges', 'Crows', 'Telephone', 'Light', 'Sugar']\n",
    "print(six_things)\n",
    "six_things[3] = 'Mango'\n",
    "print(six_things)"
   ]
  },
  {
   "cell_type": "markdown",
   "metadata": {},
   "source": [
    "# List functions"
   ]
  },
  {
   "cell_type": "code",
   "execution_count": 13,
   "metadata": {},
   "outputs": [
    {
     "name": "stdout",
     "output_type": "stream",
     "text": [
      "Length: 6\n",
      "Index of Crows: 2\n"
     ]
    }
   ],
   "source": [
    "six_things = ['Apples', 'Oranges', 'Crows', 'Telephone', 'Light', 'Sugar']\n",
    "print(\"Length:\", len(six_things))\n",
    "print(\"Index of Crows:\", six_things.index('Crows'))"
   ]
  },
  {
   "cell_type": "code",
   "execution_count": 14,
   "metadata": {},
   "outputs": [
    {
     "name": "stdout",
     "output_type": "stream",
     "text": [
      "['Apples', 'Crows', 'Light', 'Oranges', 'Sugar', 'Telephone']\n",
      "['Apples', 'Oranges', 'Crows', 'Telephone', 'Light', 'Sugar']\n"
     ]
    }
   ],
   "source": [
    "print(sorted(six_things))\n",
    "print(six_things)"
   ]
  },
  {
   "cell_type": "code",
   "execution_count": 15,
   "metadata": {},
   "outputs": [
    {
     "data": {
      "text/plain": [
       "True"
      ]
     },
     "execution_count": 15,
     "metadata": {},
     "output_type": "execute_result"
    }
   ],
   "source": [
    "'Oranges' in six_things"
   ]
  },
  {
   "cell_type": "code",
   "execution_count": 16,
   "metadata": {},
   "outputs": [],
   "source": [
    "list_num = [1, 2, 3, 4]"
   ]
  },
  {
   "cell_type": "code",
   "execution_count": 17,
   "metadata": {},
   "outputs": [
    {
     "name": "stdout",
     "output_type": "stream",
     "text": [
      "4 <> 1 <> 10\n"
     ]
    }
   ],
   "source": [
    "print(\n",
    "    max(list_num),\n",
    "    min(list_num),\n",
    "    sum(list_num),\n",
    "    sep = ' <> '\n",
    ")"
   ]
  }
 ],
 "metadata": {
  "kernelspec": {
   "display_name": "Python 3",
   "language": "python",
   "name": "python3"
  },
  "language_info": {
   "codemirror_mode": {
    "name": "ipython",
    "version": 3
   },
   "file_extension": ".py",
   "mimetype": "text/x-python",
   "name": "python",
   "nbconvert_exporter": "python",
   "pygments_lexer": "ipython3",
   "version": "3.7.3"
  }
 },
 "nbformat": 4,
 "nbformat_minor": 2
}
