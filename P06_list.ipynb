{
 "cells": [
  {
   "cell_type": "code",
   "execution_count": 5,
   "metadata": {},
   "outputs": [
    {
     "name": "stdout",
     "output_type": "stream",
     "text": [
      "[44, 'a', 'It is a string', 2.2354325, 4e-10, 3.1416, 3.142857142857143]\n",
      "[44, 'a', 'It is a string', 2.2354325, 4e-10, 3.1416]\n",
      "4\n"
     ]
    }
   ],
   "source": [
    "# Python program to illustrate list  \n",
    "pi = 3.1416\n",
    "listName = [] # empty list \n",
    "#print(listname)\n",
    "listName.append(44)\n",
    "listName.append('a')\n",
    "listName.append(\"It is a string\")\n",
    "listName.append(2.2354325)\n",
    "listName.append(4e-10)\n",
    "listName.append(pi)\n",
    "listName.append(22/7)\n",
    "print(listName)\n",
    "\n",
    "listName.remove(22/7)\n",
    "print(listName)\n",
    "\n",
    "type(listName[4])\n",
    "\n",
    "# index\n",
    "\n",
    "exp_index = listName.index(4e-10)\n",
    "print(exp_index)"
   ]
  },
  {
   "cell_type": "code",
   "execution_count": 3,
   "metadata": {},
   "outputs": [
    {
     "name": "stdout",
     "output_type": "stream",
     "text": [
      "44\n"
     ]
    }
   ],
   "source": [
    "print(listName[0])"
   ]
  },
  {
   "cell_type": "code",
   "execution_count": 6,
   "metadata": {},
   "outputs": [
    {
     "name": "stdout",
     "output_type": "stream",
     "text": [
      "[1, 333, 'halk']\n",
      "3\n",
      "[1, 333, 'halk', 0.03]\n",
      "4\n"
     ]
    }
   ],
   "source": [
    "list1 = [1,333,\"halk\"]\n",
    "print(list1)\n",
    "len1 = len(list1)\n",
    "print(len1)\n",
    "list1.append(3e-2)\n",
    "print(list1)\n",
    "len1 = len(list1)\n",
    "print(len1)"
   ]
  },
  {
   "cell_type": "code",
   "execution_count": null,
   "metadata": {},
   "outputs": [],
   "source": []
  }
 ],
 "metadata": {
  "kernelspec": {
   "display_name": "Python 3",
   "language": "python",
   "name": "python3"
  },
  "language_info": {
   "codemirror_mode": {
    "name": "ipython",
    "version": 3
   },
   "file_extension": ".py",
   "mimetype": "text/x-python",
   "name": "python",
   "nbconvert_exporter": "python",
   "pygments_lexer": "ipython3",
   "version": "3.7.1"
  }
 },
 "nbformat": 4,
 "nbformat_minor": 2
}
