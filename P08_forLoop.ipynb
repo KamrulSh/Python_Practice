{
 "cells": [
  {
   "cell_type": "markdown",
   "metadata": {},
   "source": [
    "# print list item using loop"
   ]
  },
  {
   "cell_type": "code",
   "execution_count": 1,
   "metadata": {},
   "outputs": [
    {
     "name": "stdout",
     "output_type": "stream",
     "text": [
      "Mercury * Venus * Earth * Mars * Jupiter * Saturn * Uranus * Neptune * "
     ]
    }
   ],
   "source": [
    "planets = ['Mercury', 'Venus', 'Earth', 'Mars', 'Jupiter', 'Saturn', 'Uranus', 'Neptune']\n",
    "for planet in planets:\n",
    "    print(planet, end=' * ') # print all on same line"
   ]
  },
  {
   "cell_type": "code",
   "execution_count": 2,
   "metadata": {},
   "outputs": [
    {
     "name": "stdout",
     "output_type": "stream",
     "text": [
      "['Venus', 'Earth', 'Mars']\n"
     ]
    }
   ],
   "source": [
    "# print short planet\n",
    "short_planet = [planet for planet in planets if len(planet)<6]\n",
    "print(short_planet)"
   ]
  },
  {
   "cell_type": "code",
   "execution_count": 3,
   "metadata": {
    "scrolled": true
   },
   "outputs": [
    {
     "name": "stdout",
     "output_type": "stream",
     "text": [
      "['a', 'd', 'e', 'x']\n",
      "1 no Letter is a\n",
      "2 no Letter is d\n",
      "3 no Letter is e\n",
      "4 no Letter is x\n"
     ]
    }
   ],
   "source": [
    "elementsList = [\"a\", \"d\", \"e\", \"x\"]\n",
    "print(elementsList)\n",
    "i = 1\n",
    "\n",
    "for letter in elementsList:\n",
    "    print(i, \"no Letter is\", letter)\n",
    "    i += 1"
   ]
  },
  {
   "cell_type": "code",
   "execution_count": 4,
   "metadata": {},
   "outputs": [
    {
     "name": "stdout",
     "output_type": "stream",
     "text": [
      "P\n",
      "E\n",
      "S\n",
      "E\n",
      "T\n"
     ]
    }
   ],
   "source": [
    "msg = 'PracticE makeS a man pErfecT.'\n",
    "# print all the uppercase letters in msg, one at a time\n",
    "for char in msg:\n",
    "    if char.isupper():\n",
    "        print(char) "
   ]
  },
  {
   "cell_type": "code",
   "execution_count": 5,
   "metadata": {},
   "outputs": [
    {
     "name": "stdout",
     "output_type": "stream",
     "text": [
      "Empty list :  [] \n",
      "\n",
      "#1 Loop\n",
      "Number 0 is added\n",
      "List is :  [0] \n",
      "\n",
      "#2 Loop\n",
      "Number 1 is added\n",
      "List is :  [0, 1] \n",
      "\n",
      "#3 Loop\n",
      "Number 2 is added\n",
      "List is :  [0, 1, 2] \n",
      "\n",
      "#4 Loop\n",
      "Number 3 is added\n",
      "List is :  [0, 1, 2, 3] \n",
      "\n",
      "#5 Loop\n",
      "Number 4 is added\n",
      "List is :  [0, 1, 2, 3, 4] \n",
      "\n",
      "#6 Loop\n",
      "Number 5 is added\n",
      "List is :  [0, 1, 2, 3, 4, 5] \n",
      "\n",
      "#7 Loop\n",
      "Number 6 is added\n",
      "List is :  [0, 1, 2, 3, 4, 5, 6] \n",
      "\n",
      "#8 Loop\n",
      "Number 7 is added\n",
      "List is :  [0, 1, 2, 3, 4, 5, 6, 7] \n",
      "\n",
      "#9 Loop\n",
      "Number 8 is added\n",
      "List is :  [0, 1, 2, 3, 4, 5, 6, 7, 8] \n",
      "\n",
      "#10 Loop\n",
      "Number 9 is added\n",
      "List is :  [0, 1, 2, 3, 4, 5, 6, 7, 8, 9] \n",
      "\n",
      "[0, 1, 2, 3, 4, 5, 6, 7, 8, 9]\n"
     ]
    }
   ],
   "source": [
    "elements = []\n",
    "print(\"Empty list : \", elements, \"\\n\")\n",
    "\n",
    "for number in range(10):\n",
    "    print(f\"#{number+1} Loop\")\n",
    "    print(f\"Number {number} is added\")\n",
    "    #start += 1\n",
    "    elements.append(number)\n",
    "    print(\"List is : \", elements, \"\\n\")\n",
    "\n",
    "print(elements)"
   ]
  },
  {
   "cell_type": "markdown",
   "metadata": {},
   "source": [
    "# perform addition in tuple "
   ]
  },
  {
   "cell_type": "code",
   "execution_count": 6,
   "metadata": {},
   "outputs": [
    {
     "name": "stdout",
     "output_type": "stream",
     "text": [
      "27\n"
     ]
    }
   ],
   "source": [
    "numbers = (2,4,5,7,9)\n",
    "summation = 0\n",
    "for num in numbers:\n",
    "    summation = summation + num\n",
    "print(summation)"
   ]
  },
  {
   "cell_type": "markdown",
   "metadata": {},
   "source": [
    "# using range function"
   ]
  },
  {
   "cell_type": "code",
   "execution_count": 7,
   "metadata": {
    "scrolled": false
   },
   "outputs": [
    {
     "name": "stdout",
     "output_type": "stream",
     "text": [
      "0.0\n",
      "0.5\n",
      "1.0\n",
      "1.5\n",
      "2.0\n",
      "2.5\n",
      "3.0\n",
      "3.5\n",
      "4.0\n",
      "4.5\n"
     ]
    }
   ],
   "source": [
    "for number in range(0,50,5):\n",
    "    print(number/10)"
   ]
  },
  {
   "cell_type": "code",
   "execution_count": 8,
   "metadata": {},
   "outputs": [
    {
     "name": "stdout",
     "output_type": "stream",
     "text": [
      "[0, 1, 4, 9, 16, 25, 36, 49, 64, 81]\n"
     ]
    }
   ],
   "source": [
    "list2 = []\n",
    "for num in range(10):\n",
    "    list2.append(num**2)\n",
    "print(list2)"
   ]
  },
  {
   "cell_type": "markdown",
   "metadata": {},
   "source": [
    "# list comprehension using for loop"
   ]
  },
  {
   "cell_type": "code",
   "execution_count": 9,
   "metadata": {},
   "outputs": [
    {
     "name": "stdout",
     "output_type": "stream",
     "text": [
      "[0, 1, 4, 9, 16, 25, 36, 49, 64, 81]\n"
     ]
    }
   ],
   "source": [
    "list1 = [n**2 for n in range(10)]\n",
    "print(list1)"
   ]
  }
 ],
 "metadata": {
  "kernelspec": {
   "display_name": "Python 3",
   "language": "python",
   "name": "python3"
  },
  "language_info": {
   "codemirror_mode": {
    "name": "ipython",
    "version": 3
   },
   "file_extension": ".py",
   "mimetype": "text/x-python",
   "name": "python",
   "nbconvert_exporter": "python",
   "pygments_lexer": "ipython3",
   "version": "3.7.3"
  }
 },
 "nbformat": 4,
 "nbformat_minor": 2
}
