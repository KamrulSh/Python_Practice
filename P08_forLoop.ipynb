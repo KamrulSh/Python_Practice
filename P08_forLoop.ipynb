{
 "cells": [
  {
   "cell_type": "code",
   "execution_count": 19,
   "metadata": {
    "scrolled": true
   },
   "outputs": [
    {
     "name": "stdout",
     "output_type": "stream",
     "text": [
      "['a', 'd', 'e', 'x']\n",
      "1 no Letter is a\n",
      "2 no Letter is d\n",
      "3 no Letter is e\n",
      "4 no Letter is x\n"
     ]
    }
   ],
   "source": [
    "elementsList = [\"a\", \"d\", \"e\", \"x\"]\n",
    "print(elementsList)\n",
    "i = 1\n",
    "\n",
    "for letter in elementsList:\n",
    "    print(i, \"no Letter is\", letter)\n",
    "    i += 1\n"
   ]
  },
  {
   "cell_type": "code",
   "execution_count": 16,
   "metadata": {},
   "outputs": [
    {
     "name": "stdout",
     "output_type": "stream",
     "text": [
      "Empty list :  [] \n",
      "\n",
      "#1 Loop\n",
      "Number 0 is added\n",
      "List is :  [0] \n",
      "\n",
      "#2 Loop\n",
      "Number 1 is added\n",
      "List is :  [0, 1] \n",
      "\n",
      "#3 Loop\n",
      "Number 2 is added\n",
      "List is :  [0, 1, 2] \n",
      "\n",
      "#4 Loop\n",
      "Number 3 is added\n",
      "List is :  [0, 1, 2, 3] \n",
      "\n",
      "#5 Loop\n",
      "Number 4 is added\n",
      "List is :  [0, 1, 2, 3, 4] \n",
      "\n",
      "#6 Loop\n",
      "Number 5 is added\n",
      "List is :  [0, 1, 2, 3, 4, 5] \n",
      "\n",
      "#7 Loop\n",
      "Number 6 is added\n",
      "List is :  [0, 1, 2, 3, 4, 5, 6] \n",
      "\n",
      "#8 Loop\n",
      "Number 7 is added\n",
      "List is :  [0, 1, 2, 3, 4, 5, 6, 7] \n",
      "\n",
      "#9 Loop\n",
      "Number 8 is added\n",
      "List is :  [0, 1, 2, 3, 4, 5, 6, 7, 8] \n",
      "\n",
      "#10 Loop\n",
      "Number 9 is added\n",
      "List is :  [0, 1, 2, 3, 4, 5, 6, 7, 8, 9] \n",
      "\n",
      "[0, 1, 2, 3, 4, 5, 6, 7, 8, 9]\n"
     ]
    }
   ],
   "source": [
    "elements = []\n",
    "print(\"Empty list : \", elements, \"\\n\")\n",
    "\n",
    "for number in range(0, 10):\n",
    "    print(f\"#{number+1} Loop\")\n",
    "    print(f\"Number {number} is added\")\n",
    "    #start += 1\n",
    "    elements.append(number)\n",
    "    print(\"List is : \", elements, \"\\n\")\n",
    "\n",
    "print(elements)"
   ]
  },
  {
   "cell_type": "code",
   "execution_count": 15,
   "metadata": {
    "scrolled": false
   },
   "outputs": [
    {
     "name": "stdout",
     "output_type": "stream",
     "text": [
      "0.0\n",
      "0.1\n",
      "0.2\n",
      "0.3\n",
      "0.4\n",
      "0.5\n",
      "0.6\n",
      "0.7\n",
      "0.8\n",
      "0.9\n"
     ]
    }
   ],
   "source": [
    "for number in range(0,10,1):\n",
    "    print(number/10)"
   ]
  },
  {
   "cell_type": "code",
   "execution_count": 18,
   "metadata": {},
   "outputs": [
    {
     "name": "stdout",
     "output_type": "stream",
     "text": [
      "10\n"
     ]
    }
   ],
   "source": [
    "a = 10.5\n",
    "b= int(a)\n",
    "print(b)"
   ]
  },
  {
   "cell_type": "code",
   "execution_count": null,
   "metadata": {},
   "outputs": [],
   "source": []
  }
 ],
 "metadata": {
  "kernelspec": {
   "display_name": "Python 3",
   "language": "python",
   "name": "python3"
  },
  "language_info": {
   "codemirror_mode": {
    "name": "ipython",
    "version": 3
   },
   "file_extension": ".py",
   "mimetype": "text/x-python",
   "name": "python",
   "nbconvert_exporter": "python",
   "pygments_lexer": "ipython3",
   "version": "3.7.3"
  }
 },
 "nbformat": 4,
 "nbformat_minor": 2
}
