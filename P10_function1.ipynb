{
 "cells": [
  {
   "cell_type": "markdown",
   "metadata": {},
   "source": [
    "# passing argument to the function"
   ]
  },
  {
   "cell_type": "code",
   "execution_count": 1,
   "metadata": {},
   "outputs": [
    {
     "name": "stdout",
     "output_type": "stream",
     "text": [
      "This is a function.\n"
     ]
    }
   ],
   "source": [
    "def no_argument():\n",
    "    print(\"This is a function.\")\n",
    "\n",
    "no_argument()"
   ]
  },
  {
   "cell_type": "code",
   "execution_count": 2,
   "metadata": {},
   "outputs": [
    {
     "name": "stdout",
     "output_type": "stream",
     "text": [
      "argv: two\n"
     ]
    }
   ],
   "source": [
    "def one_argument(argv):\n",
    "    print(f\"argv: {argv}\") # indent 4 spaces\n",
    "\n",
    "one_argument(\"two\") # dedent"
   ]
  },
  {
   "cell_type": "code",
   "execution_count": 3,
   "metadata": {},
   "outputs": [
    {
     "name": "stdout",
     "output_type": "stream",
     "text": [
      "argv1: 1, argv2: two, argv3: 0.0003\n"
     ]
    }
   ],
   "source": [
    "def two_argument(*argv):\n",
    "    argv1, argv2, argv3 = argv #unpacking arguments\n",
    "    print(f\"argv1: {argv1}, argv2: {argv2}, argv3: {argv3}\")\n",
    "\n",
    "two_argument(1, \"two\", 3e-4)\n"
   ]
  },
  {
   "cell_type": "code",
   "execution_count": 4,
   "metadata": {},
   "outputs": [
    {
     "name": "stdout",
     "output_type": "stream",
     "text": [
      "argv1: 1, argv2: two, argv3: 0.0003\n"
     ]
    }
   ],
   "source": [
    "def two_argument(argv1, argv2, argv3):\n",
    "    print(f\"argv1: {argv1}, argv2: {argv2}, argv3: {argv3}\")\n",
    "\n",
    "two_argument(1, \"two\", 3e-4)\n"
   ]
  },
  {
   "cell_type": "code",
   "execution_count": 5,
   "metadata": {},
   "outputs": [
    {
     "name": "stdout",
     "output_type": "stream",
     "text": [
      "Hello, Colin\n",
      "Hello, Kaggle\n",
      "Hello, world\n"
     ]
    }
   ],
   "source": [
    "def greet(who=\"Colin\"):\n",
    "    print(\"Hello,\", who)\n",
    "    \n",
    "greet()\n",
    "greet(who=\"Kaggle\")\n",
    "greet(\"world\")# we don't need to specify the name of the argument"
   ]
  }
 ],
 "metadata": {
  "kernelspec": {
   "display_name": "Python 3",
   "language": "python",
   "name": "python3"
  },
  "language_info": {
   "codemirror_mode": {
    "name": "ipython",
    "version": 3
   },
   "file_extension": ".py",
   "mimetype": "text/x-python",
   "name": "python",
   "nbconvert_exporter": "python",
   "pygments_lexer": "ipython3",
   "version": "3.7.3"
  }
 },
 "nbformat": 4,
 "nbformat_minor": 2
}
