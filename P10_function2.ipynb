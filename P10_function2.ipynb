{
 "cells": [
  {
   "cell_type": "code",
   "execution_count": 1,
   "metadata": {},
   "outputs": [],
   "source": [
    "def add(a,b):\n",
    "    sum = a+b\n",
    "    return sum"
   ]
  },
  {
   "cell_type": "code",
   "execution_count": 2,
   "metadata": {},
   "outputs": [],
   "source": [
    "def subtract(a,b):\n",
    "    sub = a-b\n",
    "    return sub"
   ]
  },
  {
   "cell_type": "code",
   "execution_count": 3,
   "metadata": {},
   "outputs": [],
   "source": [
    "def multiply(a,b):\n",
    "    mul = a*b\n",
    "    return mul"
   ]
  },
  {
   "cell_type": "code",
   "execution_count": 4,
   "metadata": {},
   "outputs": [],
   "source": [
    "def divide(a,b):\n",
    "    div = a/b\n",
    "    return div"
   ]
  },
  {
   "cell_type": "code",
   "execution_count": 5,
   "metadata": {},
   "outputs": [],
   "source": [
    "def modulus(a,b):\n",
    "    mod = a%b\n",
    "    return mod\n"
   ]
  },
  {
   "cell_type": "code",
   "execution_count": 12,
   "metadata": {},
   "outputs": [
    {
     "name": "stdout",
     "output_type": "stream",
     "text": [
      "Val1:  88\n",
      "Val2:  78\n",
      "Val3:  1815\n",
      "Val4:  6.254545454545455\n",
      "Val5:  7\n",
      "Result:  -99659\n"
     ]
    }
   ],
   "source": [
    "val1 = add(33,55)\n",
    "val2 = subtract(133,55)\n",
    "val3 = multiply(33,55)\n",
    "val4 = divide(344,55)\n",
    "val5 = modulus(117,55)\n",
    "print(\"Val1: \", val1)\n",
    "print(\"Val2: \", val2)\n",
    "print(\"Val3: \", val3)\n",
    "print(\"Val4: \", val4)\n",
    "print(\"Val5: \", val5)\n",
    "\n",
    "result = add(val1, subtract(val2, multiply(val3, 55)))\n",
    "print(\"Result: \", result)"
   ]
  },
  {
   "cell_type": "code",
   "execution_count": null,
   "metadata": {},
   "outputs": [],
   "source": []
  }
 ],
 "metadata": {
  "kernelspec": {
   "display_name": "Python 3",
   "language": "python",
   "name": "python3"
  },
  "language_info": {
   "codemirror_mode": {
    "name": "ipython",
    "version": 3
   },
   "file_extension": ".py",
   "mimetype": "text/x-python",
   "name": "python",
   "nbconvert_exporter": "python",
   "pygments_lexer": "ipython3",
   "version": "3.7.1"
  }
 },
 "nbformat": 4,
 "nbformat_minor": 2
}
