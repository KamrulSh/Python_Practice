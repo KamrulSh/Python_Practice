{
 "cells": [
  {
   "cell_type": "code",
   "execution_count": 15,
   "metadata": {},
   "outputs": [
    {
     "name": "stdout",
     "output_type": "stream",
     "text": [
      "Football: 1000.0, Cricket: 1100.0, Basketball: 1056.0\n",
      "Football: 80000.0, Cricket: 80100.0, Basketball: 80056.0\n"
     ]
    }
   ],
   "source": [
    "def secret_calculation(input_num):\n",
    "    football = input_num / 10\n",
    "    cricket = football + 100\n",
    "    basketball = cricket - 44\n",
    "    return football, cricket, basketball\n",
    "\n",
    "f_ball, c_ball, b_ball = secret_calculation(10000) # for 1st print\n",
    "ball_output = secret_calculation(800000) # for 2nd print\n",
    "\n",
    "print(f\"Football: {f_ball}, Cricket: {c_ball}, Basketball: {b_ball}\")\n",
    "print(\"Football: {}, Cricket: {}, Basketball: {}\" .format(*ball_output))\n"
   ]
  }
 ],
 "metadata": {
  "kernelspec": {
   "display_name": "Python 3",
   "language": "python",
   "name": "python3"
  },
  "language_info": {
   "codemirror_mode": {
    "name": "ipython",
    "version": 3
   },
   "file_extension": ".py",
   "mimetype": "text/x-python",
   "name": "python",
   "nbconvert_exporter": "python",
   "pygments_lexer": "ipython3",
   "version": "3.7.1"
  }
 },
 "nbformat": 4,
 "nbformat_minor": 2
}
