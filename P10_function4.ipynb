{
 "cells": [
  {
   "cell_type": "markdown",
   "metadata": {},
   "source": [
    "# higher order functions"
   ]
  },
  {
   "cell_type": "code",
   "execution_count": 19,
   "metadata": {},
   "outputs": [
    {
     "name": "stdout",
     "output_type": "stream",
     "text": [
      "Which number is biggest?\n",
      "103\n",
      "Which number is the biggest modulo x?\n",
      "51\n"
     ]
    }
   ],
   "source": [
    "def mod_x(a):\n",
    "    return a % 6\n",
    "\n",
    "print(\n",
    "    'Which number is biggest?',\n",
    "    max(103, 51, 14),\n",
    "    'Which number is the biggest modulo x?',\n",
    "    max(103, 51, 14, key = mod_x),\n",
    "    sep='\\n',\n",
    ")"
   ]
  },
  {
   "cell_type": "code",
   "execution_count": 20,
   "metadata": {},
   "outputs": [
    {
     "name": "stdout",
     "output_type": "stream",
     "text": [
      "modulo x?\n",
      "1 3 2\n",
      "51\n"
     ]
    }
   ],
   "source": [
    "print('modulo x?')\n",
    "x = mod_x(103)\n",
    "y = mod_x(51)\n",
    "z = mod_x(14)\n",
    "print(x, y, z)\n",
    "print(max(103, 51, 14, key = mod_x))"
   ]
  },
  {
   "cell_type": "markdown",
   "metadata": {},
   "source": [
    "# ex 2"
   ]
  },
  {
   "cell_type": "code",
   "execution_count": 24,
   "metadata": {},
   "outputs": [
    {
     "name": "stdout",
     "output_type": "stream",
     "text": [
      "10\n",
      "150\n"
     ]
    }
   ],
   "source": [
    "def mult_by_five(x):\n",
    "    return 5 * x\n",
    "\n",
    "def function1(func, arg):\n",
    "    \"\"\"Call func on arg\"\"\"\n",
    "    # return mult_by_five(2)\n",
    "    return func(arg)\n",
    "\n",
    "def function2(func, arg):\n",
    "    \"\"\"Call func on the result of calling func on arg\"\"\"\n",
    "    # \n",
    "    return func(func(arg) + func(arg))\n",
    "\n",
    "print(\n",
    "    function1(mult_by_five, 2),\n",
    "    function2(mult_by_five, 3), \n",
    "    sep='\\n', # '\\n' is the newline character\n",
    ")"
   ]
  },
  {
   "cell_type": "code",
   "execution_count": null,
   "metadata": {},
   "outputs": [],
   "source": []
  }
 ],
 "metadata": {
  "kernelspec": {
   "display_name": "Python 3",
   "language": "python",
   "name": "python3"
  },
  "language_info": {
   "codemirror_mode": {
    "name": "ipython",
    "version": 3
   },
   "file_extension": ".py",
   "mimetype": "text/x-python",
   "name": "python",
   "nbconvert_exporter": "python",
   "pygments_lexer": "ipython3",
   "version": "3.7.3"
  }
 },
 "nbformat": 4,
 "nbformat_minor": 2
}
