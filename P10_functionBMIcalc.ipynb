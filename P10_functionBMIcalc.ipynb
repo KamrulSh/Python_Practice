{
 "cells": [
  {
   "cell_type": "code",
   "execution_count": 7,
   "metadata": {},
   "outputs": [],
   "source": [
    "# bmi calculator\n",
    "\n",
    "n1 = \"SS\"\n",
    "h1 = 2\n",
    "w1 = 70\n",
    "\n",
    "n2 = \"KK\"\n",
    "h2 = 2.3\n",
    "w2 = 66\n",
    "\n",
    "n3 = \"RR\"\n",
    "h3 = 1.8\n",
    "w3 = 88"
   ]
  },
  {
   "cell_type": "code",
   "execution_count": 8,
   "metadata": {},
   "outputs": [],
   "source": [
    "def bmi_calculator(name, hight, weight):\n",
    "    calc = (weight / (hight ** 2))\n",
    "    print(\"bmi: \")\n",
    "    print(calc)\n",
    "    if calc > 20:\n",
    "        return name + \" is overweighted\"\n",
    "    else:\n",
    "        return name + \" is not overweighted\""
   ]
  },
  {
   "cell_type": "code",
   "execution_count": 9,
   "metadata": {},
   "outputs": [
    {
     "name": "stdout",
     "output_type": "stream",
     "text": [
      "bmi: \n",
      "17.5\n",
      "bmi: \n",
      "12.476370510396977\n",
      "bmi: \n",
      "27.160493827160494\n"
     ]
    }
   ],
   "source": [
    "r1 = bmi_calculator(n1, h1, w1)\n",
    "r2 = bmi_calculator(n2, h2, w2)\n",
    "r3 = bmi_calculator(n3, h3, w3)"
   ]
  },
  {
   "cell_type": "code",
   "execution_count": 10,
   "metadata": {},
   "outputs": [
    {
     "name": "stdout",
     "output_type": "stream",
     "text": [
      "SS is not overweighted\n",
      "KK is not overweighted\n",
      "RR is overweighted\n"
     ]
    }
   ],
   "source": [
    "print(r1)\n",
    "print(r2)\n",
    "print(r3)"
   ]
  }
 ],
 "metadata": {
  "kernelspec": {
   "display_name": "Python 3",
   "language": "python",
   "name": "python3"
  },
  "language_info": {
   "codemirror_mode": {
    "name": "ipython",
    "version": 3
   },
   "file_extension": ".py",
   "mimetype": "text/x-python",
   "name": "python",
   "nbconvert_exporter": "python",
   "pygments_lexer": "ipython3",
   "version": "3.7.1"
  }
 },
 "nbformat": 4,
 "nbformat_minor": 2
}
