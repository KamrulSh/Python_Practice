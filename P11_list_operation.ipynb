{
 "cells": [
  {
   "cell_type": "code",
   "execution_count": 10,
   "metadata": {
    "scrolled": false
   },
   "outputs": [
    {
     "name": "stdout",
     "output_type": "stream",
     "text": [
      "['Apples', 'Oranges', 'Crows', 'Telephone', 'Light', 'Sugar']\n",
      "Wait there are 6 things in that list. Let's make that to ten things.\n",
      "\n",
      "Now there are 7 things in that list.\n",
      "['Apples', 'Oranges', 'Crows', 'Telephone', 'Light', 'Sugar', 'Boy'] \n",
      "\n",
      "Now there are 8 things in that list.\n",
      "['Apples', 'Oranges', 'Crows', 'Telephone', 'Light', 'Sugar', 'Boy', 'Girl'] \n",
      "\n",
      "Now there are 9 things in that list.\n",
      "['Apples', 'Oranges', 'Crows', 'Telephone', 'Light', 'Sugar', 'Boy', 'Girl', 'Banana'] \n",
      "\n",
      "Now there are 10 things in that list.\n",
      "['Apples', 'Oranges', 'Crows', 'Telephone', 'Light', 'Sugar', 'Boy', 'Girl', 'Banana', 'Corn'] \n",
      "\n"
     ]
    }
   ],
   "source": [
    "six_things = \"Apples Oranges Crows Telephone Light Sugar\"\n",
    "list_of_things = six_things.split(' ')\n",
    "count_things = len(list_of_things)\n",
    "print(list_of_things)\n",
    "print(f\"Wait there are {count_things} things in that list. Let's make that to ten things.\\n\")\n",
    "\n",
    "more_things = [\"Day\", \"Night\", \"Song\", \"Frisbee\", \"Corn\", \"Banana\", \"Girl\", \"Boy\"]\n",
    "\n",
    "while len(list_of_things) != 10:\n",
    "    next_one = more_things.pop()\n",
    "    list_of_things.append(next_one)\n",
    "    print(f\"Now there are {len(list_of_things)} things in that list.\")\n",
    "    print(list_of_things, \"\\n\")"
   ]
  },
  {
   "cell_type": "code",
   "execution_count": 2,
   "metadata": {},
   "outputs": [
    {
     "name": "stdout",
     "output_type": "stream",
     "text": [
      "['Apples', 'Oranges', 'Crows', 'Telephone', 'Light', 'Sugar', 'Boy', 'Girl', 'Banana', 'Corn']\n",
      "Crows\n",
      "Banana\n",
      "['Apples', 'Oranges', 'Crows', 'Telephone', 'Light', 'Sugar', 'Boy', 'Girl', 'Banana', 'Corn']\n",
      "Apples Oranges Crows Telephone Light Sugar Boy Girl Banana Corn\n",
      "Telephone#Light#Sugar#Boy#Girl#Banana\n"
     ]
    }
   ],
   "source": [
    "print(list_of_things)\n",
    "print(list_of_things[2])\n",
    "print(list_of_things[-2])\n",
    "#print(list_of_things.pop())\n",
    "print(list_of_things)\n",
    "print(' '.join(list_of_things))\n",
    "print('#'.join(list_of_things[3:9]))"
   ]
  },
  {
   "cell_type": "code",
   "execution_count": 8,
   "metadata": {},
   "outputs": [
    {
     "name": "stdout",
     "output_type": "stream",
     "text": [
      "2\n"
     ]
    }
   ],
   "source": [
    "more_things = [\"Day\", \"Night\", \"Song\", \"Frisbee\", \"Corn\", \"Banana\", \"Girl\", \"Boy\"]\n",
    "song_index = more_things.index(\"Song\")\n",
    "print(song_index)"
   ]
  },
  {
   "cell_type": "code",
   "execution_count": 9,
   "metadata": {},
   "outputs": [
    {
     "name": "stdout",
     "output_type": "stream",
     "text": [
      "['Day', 'Night', 'Dance', 'Frisbee', 'Corn', 'Banana', 'Girl', 'Boy']\n"
     ]
    }
   ],
   "source": [
    "more_things[2] = \"Dance\"\n",
    "print(more_things)"
   ]
  }
 ],
 "metadata": {
  "kernelspec": {
   "display_name": "Python 3",
   "language": "python",
   "name": "python3"
  },
  "language_info": {
   "codemirror_mode": {
    "name": "ipython",
    "version": 3
   },
   "file_extension": ".py",
   "mimetype": "text/x-python",
   "name": "python",
   "nbconvert_exporter": "python",
   "pygments_lexer": "ipython3",
   "version": "3.7.1"
  }
 },
 "nbformat": 4,
 "nbformat_minor": 2
}
