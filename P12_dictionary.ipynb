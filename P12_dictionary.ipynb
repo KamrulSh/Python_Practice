{
 "cells": [
  {
   "cell_type": "code",
   "execution_count": 42,
   "metadata": {},
   "outputs": [
    {
     "name": "stdout",
     "output_type": "stream",
     "text": [
      "Shahin\n",
      "1404021\n",
      "Chittagong\n",
      "{'Name': 'Shahin', 'ID': 1404021, 'Address': 'Chittagong'}\n",
      "{'Name': 'Shahin', 'ID': 1404021, 'Address': 'Chittagong', 'Language': 'Python'}\n",
      "{'Name': 'Shahin', 'ID': 1404021, 'Address': 'Chittagong', 'Language': 'Python', 1: 'Java'}\n",
      "{'Name': 'Shahin', 'ID': 1404021, 'Address': 'Chittagong', 1: 'Java'}\n"
     ]
    }
   ],
   "source": [
    "# a dict let you use anything, not just numbers\n",
    "\n",
    "studentDetails = {'Name' : 'Shahin', \"ID\" : 1404021, \"Address\" : \"Chittagong\"}\n",
    "print(studentDetails[\"Name\"])\n",
    "print(studentDetails[\"ID\"])\n",
    "print(studentDetails[\"Address\"])\n",
    "\n",
    "print(studentDetails)\n",
    "\n",
    "studentDetails[\"Language\"] = \"Python\"\n",
    "print(studentDetails)\n",
    "\n",
    "studentDetails[1] = \"Java\"\n",
    "print(studentDetails)\n",
    "\n",
    "del studentDetails[\"Language\"]\n",
    "print(studentDetails)\n"
   ]
  }
 ],
 "metadata": {
  "kernelspec": {
   "display_name": "Python 3",
   "language": "python",
   "name": "python3"
  },
  "language_info": {
   "codemirror_mode": {
    "name": "ipython",
    "version": 3
   },
   "file_extension": ".py",
   "mimetype": "text/x-python",
   "name": "python",
   "nbconvert_exporter": "python",
   "pygments_lexer": "ipython3",
   "version": "3.7.1"
  }
 },
 "nbformat": 4,
 "nbformat_minor": 2
}
