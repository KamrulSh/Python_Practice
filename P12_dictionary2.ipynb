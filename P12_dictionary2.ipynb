{
 "cells": [
  {
   "cell_type": "code",
   "execution_count": 1,
   "metadata": {},
   "outputs": [
    {
     "name": "stdout",
     "output_type": "stream",
     "text": [
      "\t Print univ. name : CUET\n",
      "\t Print univ. name : KUET\n"
     ]
    }
   ],
   "source": [
    "# create a basic set of states and some universities in them\n",
    "\n",
    "universities = {'dha' : 'BUET', 'chi' : 'CUET', 'syl' : 'SUST'}\n",
    "\n",
    "universities['khu'] = 'KUET'\n",
    "\n",
    "print(\"\\t Print univ. name :\", universities['chi'])\n",
    "print(\"\\t Print univ. name :\", universities['khu'])"
   ]
  },
  {
   "cell_type": "code",
   "execution_count": 2,
   "metadata": {},
   "outputs": [
    {
     "name": "stdout",
     "output_type": "stream",
     "text": [
      "\t Dhaka states abbr : dha\n",
      "\t Sylhet states abbr : syl\n",
      "========================================\n",
      "\t Dhaka has : BUET\n",
      "\t Sylhet has : SUST\n",
      "========================================\n",
      "\t      Dhaka abbr. is dha\n",
      "\t Chittagong abbr. is chi\n",
      "\t     Sylhet abbr. is syl\n",
      "\t     Khulna abbr. is khu\n",
      "========================================\n",
      "\t dha has BUET\n",
      "\t chi has CUET\n",
      "\t syl has SUST\n",
      "\t khu has KUET\n",
      "========================================\n",
      "\t      Dhaka is abbr. as dha and it has BUET\n",
      "\t Chittagong is abbr. as chi and it has CUET\n",
      "\t     Sylhet is abbr. as syl and it has SUST\n",
      "\t     Khulna is abbr. as khu and it has KUET\n"
     ]
    }
   ],
   "source": [
    "# create a mapping of state to abbreviation\n",
    "\n",
    "statesName = {'Dhaka' : 'dha', 'Chittagong' : 'chi', 'Sylhet' : 'syl', 'Khulna' : 'khu'}\n",
    "\n",
    "print(\"\\t Dhaka states abbr :\", statesName['Dhaka'])\n",
    "print(\"\\t Sylhet states abbr :\", statesName['Sylhet'])\n",
    "print('====' * 10)\n",
    "\n",
    "print(\"\\t Dhaka has :\", universities[statesName['Dhaka']])\n",
    "print(\"\\t Sylhet has :\", universities[statesName['Sylhet']])\n",
    "print('====' * 10)\n",
    "\n",
    "for states,abbr in list(statesName.items()):\n",
    "    print(f\"\\t {states.rjust(10)} abbr. is {abbr}\")\n",
    "print('====' * 10)\n",
    "\n",
    "for abbr, univ in list(universities.items()):\n",
    "    print(f\"\\t {abbr} has {univ}\")\n",
    "print('====' * 10)\n",
    "\n",
    "for state, abbr in list(statesName.items()):\n",
    "    print(f\"\\t {state.rjust(10)} is abbr. as {abbr} and it has {universities[abbr]}\")"
   ]
  }
 ],
 "metadata": {
  "kernelspec": {
   "display_name": "Python 3",
   "language": "python",
   "name": "python3"
  },
  "language_info": {
   "codemirror_mode": {
    "name": "ipython",
    "version": 3
   },
   "file_extension": ".py",
   "mimetype": "text/x-python",
   "name": "python",
   "nbconvert_exporter": "python",
   "pygments_lexer": "ipython3",
   "version": "3.7.3"
  }
 },
 "nbformat": 4,
 "nbformat_minor": 2
}
