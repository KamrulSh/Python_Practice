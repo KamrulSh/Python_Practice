{
 "cells": [
  {
   "cell_type": "code",
   "execution_count": null,
   "metadata": {},
   "outputs": [],
   "source": [
    "# create a mapping of state to abbreviation\n",
    "\n",
    "statesName = {'Dhaka' : 'dha', 'Chittagong' : 'chi', 'Sylhet' : 'syl', 'Khulna' : 'khu'}\n",
    "\n",
    "# create a basic set of states and some universities in them\n",
    "\n",
    "universities = {'dha' : 'BUET', 'chi' : 'CUET', 'syl' : 'SUST'}\n",
    "\n",
    "universities['khu'] = 'KUET'\n",
    "\n",
    "print(\"\\t Print univ. name :\", universities['chi'])\n",
    "print(\"\\t Print univ. name :\", universities['khu'])\n",
    "print('====' * 10)\n",
    "\n",
    "print(\"\\t Dhaka states abbr :\", statesName['Dhaka'])\n",
    "print(\"\\t Sylhet states abbr :\", statesName['Sylhet'])\n",
    "print('====' * 10)\n",
    "\n",
    "print(\"\\t Dhaka has :\", universities[statesName['Dhaka']])\n",
    "print(\"\\t Sylhet has :\", universities[statesName['Sylhet']])\n",
    "print('====' * 10)\n",
    "\n",
    "for states,abbr in list(statesName.items()):\n",
    "    print(f\"\\t {states} abbr. is {abbr}\")\n",
    "print('====' * 10)\n",
    "\n",
    "for abbr, univ in list(universities.items()):\n",
    "    print(f\"\\t {abbr} has {univ}\")\n",
    "print('====' * 10)\n",
    "\n",
    "for state, abbr in list(statesName.items()):\n",
    "    print(f\"\\t {state} is abbr. as {abbr}\")\n",
    "    print(f\"\\t and it has {universities[abbr]}\")"
   ]
  }
 ],
 "metadata": {
  "kernelspec": {
   "display_name": "Python 3",
   "language": "python",
   "name": "python3"
  },
  "language_info": {
   "codemirror_mode": {
    "name": "ipython",
    "version": 3
   },
   "file_extension": ".py",
   "mimetype": "text/x-python",
   "name": "python",
   "nbconvert_exporter": "python",
   "pygments_lexer": "ipython3",
   "version": "3.7.1"
  }
 },
 "nbformat": 4,
 "nbformat_minor": 2
}
