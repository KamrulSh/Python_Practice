{
 "cells": [
  {
   "cell_type": "code",
   "execution_count": 1,
   "metadata": {
    "scrolled": false
   },
   "outputs": [
    {
     "name": "stdout",
     "output_type": "stream",
     "text": [
      "You are in a dark room.\n",
      "There is a door to your right and left.\n",
      "Which one do you take?\n",
      "> Enter choice: 1. left 2. right 3. other\n",
      "> 3\n",
      "You stumble around the room until you starve. Then terminate !!!\n"
     ]
    },
    {
     "ename": "SystemExit",
     "evalue": "0",
     "output_type": "error",
     "traceback": [
      "An exception has occurred, use %tb to see the full traceback.\n",
      "\u001b[1;31mSystemExit\u001b[0m\u001b[1;31m:\u001b[0m 0\n"
     ]
    },
    {
     "name": "stderr",
     "output_type": "stream",
     "text": [
      "C:\\Users\\KAMRUL\\Anaconda3\\lib\\site-packages\\IPython\\core\\interactiveshell.py:3275: UserWarning: To exit: use 'exit', 'quit', or Ctrl-D.\n",
      "  warn(\"To exit: use 'exit', 'quit', or Ctrl-D.\", stacklevel=1)\n"
     ]
    }
   ],
   "source": [
    "from sys import exit\n",
    "\n",
    "def gold_room():\n",
    "    print(\"This room is full of gold. How much do you take?\")\n",
    "    choice = input(\"> \")\n",
    "    if \"0\" in choice or \"1\" in choice:\n",
    "        how_much = int(choice)\n",
    "    else:\n",
    "        dead_pool(\"Man, learn to type a number.\")\n",
    "\n",
    "    if how_much < 50:\n",
    "        print(\"Nice, you're not greedy, you win!\")\n",
    "        exit(0)\n",
    "    else:\n",
    "        dead(\"You greedy bastard!\")\n",
    "\n",
    "def bear_room():\n",
    "    print(\"There is a bear here.\")\n",
    "    print(\"The bear has a bunch of honey.\")\n",
    "    print(\"The fat bear is in front of another door.\")\n",
    "    print(\"How are you going to move the bear?\")\n",
    "    bear_moved = False\n",
    "\n",
    "    while True:\n",
    "        print(\"> Enter choice: 1. take honey 2. taunt bear 3. open door\")\n",
    "        choice = input(\"> \")\n",
    "        if choice == \"1\":\n",
    "            dead_pool(\"The bear looks at you then slaps your face off.\")\n",
    "        elif choice == \"2\" and not bear_moved:\n",
    "            print(\"The bear has moved from the door.\")\n",
    "            print(\"You can go through it now.\")\n",
    "            bear_moved = True\n",
    "        elif choice == \"2\" and bear_moved:\n",
    "            dead(\"The bear gets pissed off and chews your leg off.\")\n",
    "        elif choice == \"3\" and bear_moved:\n",
    "            gold_room()\n",
    "        else:\n",
    "            print(\"I got no idea what that means.\")\n",
    "\n",
    "def cthulhu_room():\n",
    "    print(\"Here you see the great evil Cthulhu.\")\n",
    "    print(\"He, it, whatever stares at you and you go insane.\")\n",
    "    print(\"Do you flee for your life or eat your head?\")\n",
    "    \n",
    "    choice = input(\"> \")\n",
    "    print(\"> Enter choice: 1. flee 2. head 3. other\")\n",
    "    if \"1\" in choice:\n",
    "        start_game()\n",
    "    elif \"2\" in choice:\n",
    "        dead_pool(\"Well that was tasty!\")\n",
    "    else:\n",
    "        cthulhu_room()\n",
    "    \n",
    "def dead_pool(dead):\n",
    "    print(dead, \"Then terminate !!!\")\n",
    "    exit(0)\n",
    "    \n",
    "def start_game():\n",
    "    print(\"You are in a dark room.\")\n",
    "    print(\"There is a door to your right and left.\")\n",
    "    print(\"Which one do you take?\")\n",
    "    print(\"> Enter choice: 1. left 2. right 3. other\")\n",
    "\n",
    "    choice = input(\"> \")\n",
    "\n",
    "    if choice == \"1\":\n",
    "        bear_room()\n",
    "    elif choice == \"2\":\n",
    "        cthulhu_room()\n",
    "    else:\n",
    "        dead_pool(\"You stumble around the room until you starve.\")\n",
    "    \n",
    "start_game()"
   ]
  }
 ],
 "metadata": {
  "kernelspec": {
   "display_name": "Python 3",
   "language": "python",
   "name": "python3"
  },
  "language_info": {
   "codemirror_mode": {
    "name": "ipython",
    "version": 3
   },
   "file_extension": ".py",
   "mimetype": "text/x-python",
   "name": "python",
   "nbconvert_exporter": "python",
   "pygments_lexer": "ipython3",
   "version": "3.7.3"
  }
 },
 "nbformat": 4,
 "nbformat_minor": 2
}
