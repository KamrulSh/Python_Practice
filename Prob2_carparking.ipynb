{
 "cells": [
  {
   "cell_type": "code",
   "execution_count": 2,
   "metadata": {
    "scrolled": true
   },
   "outputs": [
    {
     "name": "stdout",
     "output_type": "stream",
     "text": [
      "Total 100 cars have been parked.\n",
      "Today only 30 drivers are present.\n",
      "There will be 70 empty cars today.\n",
      "We can transport 120 people today.\n",
      "We have 90 passangers today.\n",
      "We need to put about 3.0 in each car.\n",
      "Total fuel needed 167.4 litres.\n",
      "Total fuel cost 11048.4 taka.\n"
     ]
    }
   ],
   "source": [
    "# solution of car parking problem\n",
    "\n",
    "# garage_name = \"ToYoTa CaRs\"\n",
    "\n",
    "total_cars = 100\n",
    "seats_in_each_car = 4\n",
    "fuels_needed_in_each_car = 5.58 # litres\n",
    "one_liter_cost = 66 # taka\n",
    "drivers_avaiable = 30\n",
    "passangers_today = 90\n",
    "\n",
    "cars_not_driven = total_cars - drivers_avaiable\n",
    "cars_driven = drivers_avaiable\n",
    "total_capacity = seats_in_each_car * cars_driven\n",
    "average_passengers_per_car = passangers_today / cars_driven\n",
    "total_fuel_needed = cars_driven * fuels_needed_in_each_car\n",
    "total_fuel_cost = total_fuel_needed * one_liter_cost\n",
    "\n",
    "#print(f\"In my {garage_name} today:\") # special type of string to \"format\"\n",
    "\n",
    "print(\"Total\", total_cars, \"cars have been parked.\")\n",
    "print(\"Today only\", drivers_present, \"drivers are present.\")\n",
    "\n",
    "#print(f\"Today only {drivers_present} drivers are present.\")\n",
    "\n",
    "print(\"There will be\", cars_not_driven, \"empty cars today.\")\n",
    "print(\"We can transport\", total_capacity, \"people today.\")\n",
    "print(\"We have\", passangers_today, \"passangers today.\")\n",
    "print(\"We need to put about\", average_passengers_per_car,\"in each car.\")\n",
    "print(\"Total fuel needed\", total_fuel_needed , \"litres.\")\n",
    "print(\"Total fuel cost\", total_fuel_cost , \"taka.\")\n"
   ]
  },
  {
   "cell_type": "code",
   "execution_count": null,
   "metadata": {},
   "outputs": [],
   "source": []
  }
 ],
 "metadata": {
  "kernelspec": {
   "display_name": "Python 3",
   "language": "python",
   "name": "python3"
  },
  "language_info": {
   "codemirror_mode": {
    "name": "ipython",
    "version": 3
   },
   "file_extension": ".py",
   "mimetype": "text/x-python",
   "name": "python",
   "nbconvert_exporter": "python",
   "pygments_lexer": "ipython3",
   "version": "3.7.1"
  }
 },
 "nbformat": 4,
 "nbformat_minor": 2
}
