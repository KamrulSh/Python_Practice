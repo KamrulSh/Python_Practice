{
 "cells": [
  {
   "cell_type": "code",
   "execution_count": 97,
   "metadata": {
    "scrolled": false
   },
   "outputs": [
    {
     "name": "stdout",
     "output_type": "stream",
     "text": [
      "-----------------------------------------------------------------------------------------\n",
      "Buying | Sell @20% Profit | After 5% Discount | Profit w/o discount | profitAfterDiscount\n",
      "-----------------------------------------------------------------------------------------\n",
      "500 \t\t 625 \t\t 593 \t\t\t 125 \t\t 93\n",
      "550 \t\t 687 \t\t 653 \t\t\t 137 \t\t 103\n",
      "600 \t\t 750 \t\t 712 \t\t\t 150 \t\t 112\n",
      "650 \t\t 812 \t\t 771 \t\t\t 162 \t\t 121\n",
      "700 \t\t 875 \t\t 831 \t\t\t 175 \t\t 131\n",
      "750 \t\t 937 \t\t 890 \t\t\t 187 \t\t 140\n",
      "800 \t\t 1000 \t\t 950 \t\t\t 200 \t\t 150\n",
      "850 \t\t 1062 \t\t 1009 \t\t\t 212 \t\t 159\n",
      "900 \t\t 1125 \t\t 1068 \t\t\t 225 \t\t 168\n",
      "950 \t\t 1187 \t\t 1128 \t\t\t 237 \t\t 178\n",
      "1000 \t\t 1250 \t\t 1187 \t\t\t 250 \t\t 187\n",
      "1050 \t\t 1312 \t\t 1246 \t\t\t 262 \t\t 196\n",
      "1100 \t\t 1375 \t\t 1306 \t\t\t 275 \t\t 206\n",
      "1150 \t\t 1437 \t\t 1365 \t\t\t 287 \t\t 215\n",
      "1200 \t\t 1500 \t\t 1425 \t\t\t 300 \t\t 225\n",
      "1250 \t\t 1562 \t\t 1484 \t\t\t 312 \t\t 234\n",
      "1300 \t\t 1625 \t\t 1543 \t\t\t 325 \t\t 243\n",
      "1350 \t\t 1687 \t\t 1603 \t\t\t 337 \t\t 253\n",
      "1400 \t\t 1750 \t\t 1662 \t\t\t 350 \t\t 262\n",
      "1450 \t\t 1812 \t\t 1721 \t\t\t 362 \t\t 271\n",
      "1500 \t\t 1875 \t\t 1781 \t\t\t 375 \t\t 281\n",
      "1550 \t\t 1937 \t\t 1840 \t\t\t 387 \t\t 290\n",
      "1600 \t\t 2000 \t\t 1900 \t\t\t 400 \t\t 300\n",
      "1650 \t\t 2062 \t\t 1959 \t\t\t 412 \t\t 309\n",
      "1700 \t\t 2125 \t\t 2018 \t\t\t 425 \t\t 318\n",
      "1750 \t\t 2187 \t\t 2078 \t\t\t 437 \t\t 328\n",
      "1800 \t\t 2250 \t\t 2137 \t\t\t 450 \t\t 337\n",
      "1850 \t\t 2312 \t\t 2196 \t\t\t 462 \t\t 346\n",
      "1900 \t\t 2375 \t\t 2256 \t\t\t 475 \t\t 356\n",
      "1950 \t\t 2437 \t\t 2315 \t\t\t 487 \t\t 365\n",
      "2000 \t\t 2500 \t\t 2375 \t\t\t 500 \t\t 375\n",
      "2050 \t\t 2562 \t\t 2434 \t\t\t 512 \t\t 384\n",
      "2100 \t\t 2625 \t\t 2493 \t\t\t 525 \t\t 393\n",
      "2150 \t\t 2687 \t\t 2553 \t\t\t 537 \t\t 403\n",
      "2200 \t\t 2750 \t\t 2612 \t\t\t 550 \t\t 412\n",
      "2250 \t\t 2812 \t\t 2671 \t\t\t 562 \t\t 421\n",
      "2300 \t\t 2875 \t\t 2731 \t\t\t 575 \t\t 431\n",
      "2350 \t\t 2937 \t\t 2790 \t\t\t 587 \t\t 440\n",
      "2400 \t\t 3000 \t\t 2850 \t\t\t 600 \t\t 450\n",
      "2450 \t\t 3062 \t\t 2909 \t\t\t 612 \t\t 459\n",
      "2500 \t\t 3125 \t\t 2968 \t\t\t 625 \t\t 468\n",
      "2550 \t\t 3187 \t\t 3028 \t\t\t 637 \t\t 478\n",
      "2600 \t\t 3250 \t\t 3087 \t\t\t 650 \t\t 487\n",
      "2650 \t\t 3312 \t\t 3146 \t\t\t 662 \t\t 496\n",
      "2700 \t\t 3375 \t\t 3206 \t\t\t 675 \t\t 506\n",
      "2750 \t\t 3437 \t\t 3265 \t\t\t 687 \t\t 515\n",
      "2800 \t\t 3500 \t\t 3325 \t\t\t 700 \t\t 525\n",
      "2850 \t\t 3562 \t\t 3384 \t\t\t 712 \t\t 534\n",
      "2900 \t\t 3625 \t\t 3443 \t\t\t 725 \t\t 543\n",
      "2950 \t\t 3687 \t\t 3503 \t\t\t 737 \t\t 553\n",
      "3000 \t\t 3750 \t\t 3562 \t\t\t 750 \t\t 562\n"
     ]
    }
   ],
   "source": [
    "print(\"-----------------------------------------------------------------------------------------\")\n",
    "print(\"Buying | Sell @20% Profit | After 5% Discount | Profit w/o discount | profitAfterDiscount\")\n",
    "print(\"-----------------------------------------------------------------------------------------\")\n",
    "for buying_price in range(500,3050,50):\n",
    "    selling_price = buying_price + (buying_price * 0.25)\n",
    "    discount_5percent = selling_price * 0.05\n",
    "    profitWOdiscount = selling_price - buying_price\n",
    "    priceAfterDiscount = selling_price - discount_5percent\n",
    "    profitAfterDiscount = priceAfterDiscount - buying_price\n",
    "    print(f\"{buying_price} \\t\\t {int(selling_price)} \\t\\t {int(priceAfterDiscount)} \\t\\t\\t {int(profitWOdiscount)} \\t\\t {int(profitAfterDiscount)}\")\n",
    "      "
   ]
  },
  {
   "cell_type": "code",
   "execution_count": null,
   "metadata": {},
   "outputs": [],
   "source": []
  }
 ],
 "metadata": {
  "kernelspec": {
   "display_name": "Python 3",
   "language": "python",
   "name": "python3"
  },
  "language_info": {
   "codemirror_mode": {
    "name": "ipython",
    "version": 3
   },
   "file_extension": ".py",
   "mimetype": "text/x-python",
   "name": "python",
   "nbconvert_exporter": "python",
   "pygments_lexer": "ipython3",
   "version": "3.7.1"
  }
 },
 "nbformat": 4,
 "nbformat_minor": 2
}
