{
 "cells": [
  {
   "cell_type": "code",
   "execution_count": 1,
   "metadata": {},
   "outputs": [
    {
     "name": "stdout",
     "output_type": "stream",
     "text": [
      "Enter ur name: 333\n",
      "Hello 333\n"
     ]
    }
   ],
   "source": [
    "# Python program to illustrate \n",
    "# getting input from user \n",
    "name = input(\"Enter ur name: \")\n",
    "print(\"Hello \" + name)"
   ]
  },
  {
   "cell_type": "code",
   "execution_count": 1,
   "metadata": {
    "scrolled": true
   },
   "outputs": [
    {
     "name": "stdout",
     "output_type": "stream",
     "text": [
      "n1 = 33.4\n",
      "n2 = 33\n",
      "Mul =  1102.2\n"
     ]
    }
   ],
   "source": [
    "n1 = float(input(\"n1 = \"))\n",
    "n2 = float(input(\"n2 = \"))\n",
    "n = n1*n2\n",
    "print(\"Mul = \", n)"
   ]
  },
  {
   "cell_type": "code",
   "execution_count": null,
   "metadata": {},
   "outputs": [
    {
     "name": "stdout",
     "output_type": "stream",
     "text": [
      "Enter your age: "
     ]
    }
   ],
   "source": [
    "print(\"Enter your age:\", end = ' ')\n",
    "age = input()\n",
    "print(\"Enter your weight:\", end = ' ')\n",
    "weight = input()\n",
    "print(\"Enter your hight:\", end = ' ')\n",
    "hight = input()\n",
    "print(f\"Age is {age} , weight is {weight} and hight is {hight}.\")"
   ]
  },
  {
   "cell_type": "code",
   "execution_count": null,
   "metadata": {},
   "outputs": [],
   "source": [
    "age = input(\"Enter your age: \")\n",
    "weight = input(\"Enter your weight: \")\n",
    "hight = input(\"Enter your hight: \")\n",
    "print(f\"Age is {age} , weight is {weight} and hight is {hight}.\")"
   ]
  }
 ],
 "metadata": {
  "kernelspec": {
   "display_name": "Python 3",
   "language": "python",
   "name": "python3"
  },
  "language_info": {
   "codemirror_mode": {
    "name": "ipython",
    "version": 3
   },
   "file_extension": ".py",
   "mimetype": "text/x-python",
   "name": "python",
   "nbconvert_exporter": "python",
   "pygments_lexer": "ipython3",
   "version": "3.7.3"
  }
 },
 "nbformat": 4,
 "nbformat_minor": 2
}
