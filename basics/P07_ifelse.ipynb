{
 "cells": [
  {
   "cell_type": "code",
   "execution_count": 1,
   "metadata": {},
   "outputs": [
    {
     "name": "stdout",
     "output_type": "stream",
     "text": [
      "1st conditional statement:\n",
      "44 is less than 100\n",
      "44 is equal to 44\n",
      "100 is greater than or euual 44\n"
     ]
    }
   ],
   "source": [
    "number1 = 44\n",
    "number2 = 44\n",
    "number3 = 100\n",
    "\n",
    "# first conditional statement\n",
    "print(\"1st conditional statement:\")\n",
    "if number1 > number2:\n",
    "    print(f\"{number1} is greater than {number2}\")\n",
    "if number1 < number3:\n",
    "    print(f\"{number1} is less than {number3}\")\n",
    "if number1 == number2:\n",
    "    print(f\"{number1} is equal to {number2}\")\n",
    "if number3 >= number2:\n",
    "    print(f\"{number3} is greater than or euual {number2}\")"
   ]
  },
  {
   "cell_type": "code",
   "execution_count": 2,
   "metadata": {},
   "outputs": [
    {
     "name": "stdout",
     "output_type": "stream",
     "text": [
      "\n",
      "2nd conditional statement:\n",
      "100 is greater than 44\n"
     ]
    }
   ],
   "source": [
    "# 2nd conditional statement\n",
    "\n",
    "number2 = 44\n",
    "number3 = 100\n",
    "\n",
    "print(\"\\n2nd conditional statement:\")\n",
    "if number3 > number2:\n",
    "    print(f\"{number3} is greater than {number2}\")\n",
    "elif number3 < number2:\n",
    "    print(f\"{number3} is less than {number2}\")\n",
    "else:\n",
    "    print(f\"{number3} is equal to {number2}\")"
   ]
  },
  {
   "cell_type": "code",
   "execution_count": 3,
   "metadata": {},
   "outputs": [
    {
     "name": "stdout",
     "output_type": "stream",
     "text": [
      "\n",
      "3rd conditional statement:\n",
      "233 is greater than 23 and 33\n"
     ]
    }
   ],
   "source": [
    "# 3rd conditional statement\n",
    "\n",
    "number1 = int(input(\"number1 = \"))\n",
    "number2 = int(input(\"number2 = \"))\n",
    "number3 = int(input(\"number3 = \"))\n",
    "\n",
    "print(\"\\n3rd conditional statement:\")\n",
    "if number1 > number2 and number1 > number3:\n",
    "    print(f\"{number1} is greater than {number2} and {number3}\")\n",
    "elif number2 > number1 and number2 > number3:\n",
    "    print(f\"{number2} is greater than {number1} and {number3}\")\n",
    "else:\n",
    "    print(f\"{number3} is greater than {number1} and {number2}\")"
   ]
  },
  {
   "cell_type": "markdown",
   "metadata": {},
   "source": [
    "### Walrus operator (:=)"
   ]
  },
  {
   "cell_type": "code",
   "execution_count": 4,
   "metadata": {},
   "outputs": [
    {
     "name": "stdout",
     "output_type": "stream",
     "text": [
      "A fitting tweet\n"
     ]
    }
   ],
   "source": [
    "tweet_limit = 280\n",
    "tweet_string = \"Blah\" * 50\n",
    "# diff = tweet_limit - len(tweet_string)\n",
    "# if diff >= 0:\n",
    "if diff := tweet_limit - len(tweet_string) >= 0:\n",
    "    print(\"A fitting tweet\")\n",
    "else:\n",
    "    print(\"Went over by\", abs(diff))"
   ]
  }
 ],
 "metadata": {
  "kernelspec": {
   "display_name": "Python 3.10.1 64-bit",
   "language": "python",
   "name": "python3"
  },
  "language_info": {
   "codemirror_mode": {
    "name": "ipython",
    "version": 3
   },
   "file_extension": ".py",
   "mimetype": "text/x-python",
   "name": "python",
   "nbconvert_exporter": "python",
   "pygments_lexer": "ipython3",
   "version": "3.10.1"
  },
  "vscode": {
   "interpreter": {
    "hash": "7e1998ff7f8aa20ada591c520b972326324e5ea05489af9e422744c7c09f6dad"
   }
  }
 },
 "nbformat": 4,
 "nbformat_minor": 2
}
