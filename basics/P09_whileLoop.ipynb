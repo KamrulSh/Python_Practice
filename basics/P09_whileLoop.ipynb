{
 "cells": [
  {
   "cell_type": "code",
   "execution_count": 1,
   "metadata": {},
   "outputs": [
    {
     "name": "stdout",
     "output_type": "stream",
     "text": [
      "i = 1\n",
      "i = 2\n",
      "i = 3\n",
      "i = 4\n"
     ]
    }
   ],
   "source": [
    "i = 1\n",
    "while i < 5:\n",
    "    print(\"i = {}\".format(i))\n",
    "    i+=1"
   ]
  },
  {
   "cell_type": "code",
   "execution_count": 2,
   "metadata": {},
   "outputs": [
    {
     "name": "stdout",
     "output_type": "stream",
     "text": [
      "#0 Loop\n",
      "Starting Number is : 0\n",
      "Ending Number is   : 1\n",
      "List is :  [0] \n",
      "\n",
      "#1 Loop\n",
      "Starting Number is : 1\n",
      "Ending Number is   : 2\n",
      "List is :  [0, 1] \n",
      "\n",
      "#2 Loop\n",
      "Starting Number is : 2\n",
      "Ending Number is   : 3\n",
      "List is :  [0, 1, 2] \n",
      "\n",
      "#3 Loop\n",
      "Starting Number is : 3\n",
      "Ending Number is   : 4\n",
      "List is :  [0, 1, 2, 3] \n",
      "\n",
      "#4 Loop\n",
      "Starting Number is : 4\n",
      "Ending Number is   : 5\n",
      "List is :  [0, 1, 2, 3, 4] \n",
      "\n",
      "#5 Loop\n",
      "Starting Number is : 5\n",
      "Ending Number is   : 6\n",
      "List is :  [0, 1, 2, 3, 4, 5] \n",
      "\n",
      "#6 Loop\n",
      "Starting Number is : 6\n",
      "Ending Number is   : 7\n",
      "List is :  [0, 1, 2, 3, 4, 5, 6] \n",
      "\n",
      "#7 Loop\n",
      "Starting Number is : 7\n",
      "Ending Number is   : 8\n",
      "List is :  [0, 1, 2, 3, 4, 5, 6, 7] \n",
      "\n",
      "#8 Loop\n",
      "Starting Number is : 8\n",
      "Ending Number is   : 9\n",
      "List is :  [0, 1, 2, 3, 4, 5, 6, 7, 8] \n",
      "\n",
      "#9 Loop\n",
      "Starting Number is : 9\n",
      "Ending Number is   : 10\n",
      "List is :  [0, 1, 2, 3, 4, 5, 6, 7, 8, 9] \n",
      "\n",
      "#10 Loop\n",
      "Starting Number is : 10\n",
      "Ending Number is   : 11\n",
      "List is :  [0, 1, 2, 3, 4, 5, 6, 7, 8, 9, 10] \n",
      "\n",
      "0\n",
      "1\n",
      "2\n",
      "3\n",
      "4\n",
      "5\n",
      "6\n",
      "7\n",
      "8\n",
      "9\n",
      "10\n"
     ]
    }
   ],
   "source": [
    "start = 0\n",
    "numberList = []\n",
    "\n",
    "while(start <= 10):\n",
    "    numberList.append(start)\n",
    "    print(f\"#{start} Loop\")\n",
    "    print(f\"Starting Number is : {start}\")\n",
    "    start += 1 # try without this line [infinity loop]\n",
    "    print(f\"Ending Number is   : {start}\")\n",
    "    print(\"List is : \", numberList, \"\\n\")\n",
    "    \n",
    "for i in numberList:\n",
    "    print(i)\n",
    "    "
   ]
  }
 ],
 "metadata": {
  "kernelspec": {
   "display_name": "Python 3",
   "language": "python",
   "name": "python3"
  },
  "language_info": {
   "codemirror_mode": {
    "name": "ipython",
    "version": 3
   },
   "file_extension": ".py",
   "mimetype": "text/x-python",
   "name": "python",
   "nbconvert_exporter": "python",
   "pygments_lexer": "ipython3",
   "version": "3.7.3"
  }
 },
 "nbformat": 4,
 "nbformat_minor": 2
}
