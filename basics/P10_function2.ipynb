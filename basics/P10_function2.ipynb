{
 "cells": [
  {
   "cell_type": "code",
   "execution_count": 1,
   "metadata": {},
   "outputs": [],
   "source": [
    "def add(a,b):\n",
    "    '''addition of two numbers'''\n",
    "    sum = a+b\n",
    "    return sum"
   ]
  },
  {
   "cell_type": "code",
   "execution_count": 2,
   "metadata": {},
   "outputs": [],
   "source": [
    "def subtract(a,b):\n",
    "    '''subtraction of two numbers'''\n",
    "    sub = a-b\n",
    "    return sub"
   ]
  },
  {
   "cell_type": "code",
   "execution_count": 3,
   "metadata": {},
   "outputs": [],
   "source": [
    "def multiply(a,b):\n",
    "    '''multiplication of two numbers'''\n",
    "    mul = a*b\n",
    "    return mul"
   ]
  },
  {
   "cell_type": "code",
   "execution_count": 4,
   "metadata": {},
   "outputs": [],
   "source": [
    "def divide(a,b):\n",
    "    '''division of two numbers'''\n",
    "    div = a/b\n",
    "    return div"
   ]
  },
  {
   "cell_type": "code",
   "execution_count": 5,
   "metadata": {},
   "outputs": [],
   "source": [
    "def modulus(a,b):\n",
    "    '''calculates the remainder'''\n",
    "    mod = a%b\n",
    "    return mod\n"
   ]
  },
  {
   "cell_type": "code",
   "execution_count": 6,
   "metadata": {},
   "outputs": [
    {
     "name": "stdout",
     "output_type": "stream",
     "text": [
      "Val1: 88\n",
      "Val2: 78\n",
      "Val3: 1815\n",
      "Val4: 6.254545454545455\n",
      "Val5: 7\n",
      "Result: -99659\n"
     ]
    }
   ],
   "source": [
    "val1 = add(33,55)\n",
    "val2 = subtract(133,55)\n",
    "val3 = multiply(33,55)\n",
    "val4 = divide(344,55)\n",
    "val5 = modulus(117,55)\n",
    "print(\"Val1:\", val1)\n",
    "print(\"Val2:\", val2)\n",
    "print(\"Val3:\", val3)\n",
    "print(\"Val4:\", val4)\n",
    "print(\"Val5:\", val5)\n",
    "\n",
    "result = add(val1, subtract(val2, multiply(val3, 55)))\n",
    "print(\"Result:\", result)"
   ]
  },
  {
   "cell_type": "markdown",
   "metadata": {},
   "source": [
    "# try without using return function"
   ]
  },
  {
   "cell_type": "code",
   "execution_count": 7,
   "metadata": {},
   "outputs": [
    {
     "name": "stdout",
     "output_type": "stream",
     "text": [
      "None\n"
     ]
    }
   ],
   "source": [
    "def add(a,b):\n",
    "    sum = a+b\n",
    "value = add(33,55)\n",
    "print(value)"
   ]
  }
 ],
 "metadata": {
  "kernelspec": {
   "display_name": "Python 3",
   "language": "python",
   "name": "python3"
  },
  "language_info": {
   "codemirror_mode": {
    "name": "ipython",
    "version": 3
   },
   "file_extension": ".py",
   "mimetype": "text/x-python",
   "name": "python",
   "nbconvert_exporter": "python",
   "pygments_lexer": "ipython3",
   "version": "3.7.3"
  }
 },
 "nbformat": 4,
 "nbformat_minor": 2
}
