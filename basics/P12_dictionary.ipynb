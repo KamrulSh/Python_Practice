{
 "cells": [
  {
   "cell_type": "markdown",
   "metadata": {},
   "source": [
    "# dictionary data structure ==> mapping key value pair"
   ]
  },
  {
   "cell_type": "code",
   "execution_count": 1,
   "metadata": {},
   "outputs": [
    {
     "name": "stdout",
     "output_type": "stream",
     "text": [
      "Shahin\n",
      "1404021\n",
      "Chittagong\n",
      "{'Name': 'Shahin', 'ID': 1404021, 'Address': 'Chittagong'}\n"
     ]
    }
   ],
   "source": [
    "# a dict let you use anything, not just numbers\n",
    "\n",
    "studentDetails = {\"Name\" : 'Shahin', \"ID\" : 1404021, \"Address\" : \"Chittagong\"}\n",
    "print(studentDetails[\"Name\"])\n",
    "print(studentDetails[\"ID\"])\n",
    "print(studentDetails[\"Address\"])\n",
    "\n",
    "print(studentDetails)"
   ]
  },
  {
   "cell_type": "code",
   "execution_count": 2,
   "metadata": {},
   "outputs": [
    {
     "data": {
      "text/plain": [
       "dict_items([('Name', 'Shahin'), ('ID', 1404021), ('Address', 'Chittagong')])"
      ]
     },
     "execution_count": 2,
     "metadata": {},
     "output_type": "execute_result"
    }
   ],
   "source": [
    "studentDetails.items()"
   ]
  },
  {
   "cell_type": "code",
   "execution_count": 3,
   "metadata": {},
   "outputs": [
    {
     "data": {
      "text/plain": [
       "dict_keys(['Name', 'ID', 'Address'])"
      ]
     },
     "execution_count": 3,
     "metadata": {},
     "output_type": "execute_result"
    }
   ],
   "source": [
    "studentDetails.keys()"
   ]
  },
  {
   "cell_type": "code",
   "execution_count": 4,
   "metadata": {},
   "outputs": [
    {
     "data": {
      "text/plain": [
       "dict_values(['Shahin', 1404021, 'Chittagong'])"
      ]
     },
     "execution_count": 4,
     "metadata": {},
     "output_type": "execute_result"
    }
   ],
   "source": [
    "studentDetails.values()"
   ]
  },
  {
   "cell_type": "markdown",
   "metadata": {},
   "source": [
    "### list inside dictionary"
   ]
  },
  {
   "cell_type": "code",
   "execution_count": 5,
   "metadata": {},
   "outputs": [
    {
     "name": "stdout",
     "output_type": "stream",
     "text": [
      "[1, 3, 'sos']\n",
      "sos\n"
     ]
    }
   ],
   "source": [
    "dict_item = {'key1' : 'value', 'key2' : [1, 3, 'sos']}\n",
    "print(dict_item['key2'])\n",
    "print(dict_item['key2'][2])"
   ]
  },
  {
   "cell_type": "markdown",
   "metadata": {},
   "source": [
    "### nested dictionary"
   ]
  },
  {
   "cell_type": "code",
   "execution_count": 6,
   "metadata": {},
   "outputs": [
    {
     "name": "stdout",
     "output_type": "stream",
     "text": [
      "{'innerkey': [1, 3, 'sos']}\n",
      "[1, 3, 'sos']\n",
      "sos\n"
     ]
    }
   ],
   "source": [
    "dict_item = {'key1' : 'value', 'keyX' : {'innerkey' : [1, 3, 'sos']}}\n",
    "print(dict_item['keyX'])\n",
    "print(dict_item['keyX']['innerkey'])\n",
    "print(dict_item['keyX']['innerkey'][2])"
   ]
  },
  {
   "cell_type": "markdown",
   "metadata": {},
   "source": [
    "# adding items in dictionary"
   ]
  },
  {
   "cell_type": "code",
   "execution_count": 7,
   "metadata": {},
   "outputs": [
    {
     "name": "stdout",
     "output_type": "stream",
     "text": [
      "{'Name': 'Shahin', 'ID': 1404021, 'Address': 'Chittagong', 'Language': 'Python'}\n",
      "{'Name': 'Shahin', 'ID': 1404021, 'Address': 'Chittagong', 'Language': 'Python', 1: 'Java'}\n"
     ]
    }
   ],
   "source": [
    "studentDetails[\"Language\"] = \"Python\"\n",
    "print(studentDetails)\n",
    "\n",
    "studentDetails[1] = \"Java\"\n",
    "print(studentDetails)"
   ]
  },
  {
   "cell_type": "markdown",
   "metadata": {},
   "source": [
    "# changing vaiue in dictionary"
   ]
  },
  {
   "cell_type": "code",
   "execution_count": 8,
   "metadata": {},
   "outputs": [
    {
     "name": "stdout",
     "output_type": "stream",
     "text": [
      "{'Name': 'Shahin', 'ID': 1404021, 'Address': 'Chittagong', 'Language': 'Python', 1: 'MySQL'}\n"
     ]
    }
   ],
   "source": [
    "studentDetails[1] = \"MySQL\"\n",
    "print(studentDetails)"
   ]
  },
  {
   "cell_type": "markdown",
   "metadata": {},
   "source": [
    "# delete item from dictionary"
   ]
  },
  {
   "cell_type": "code",
   "execution_count": 9,
   "metadata": {},
   "outputs": [
    {
     "name": "stdout",
     "output_type": "stream",
     "text": [
      "{'Name': 'Shahin', 'ID': 1404021, 'Address': 'Chittagong', 1: 'MySQL'}\n"
     ]
    }
   ],
   "source": [
    "del studentDetails[\"Language\"]\n",
    "print(studentDetails)"
   ]
  },
  {
   "cell_type": "markdown",
   "metadata": {},
   "source": [
    "# converting list into dictionary"
   ]
  },
  {
   "cell_type": "code",
   "execution_count": 10,
   "metadata": {},
   "outputs": [
    {
     "name": "stdout",
     "output_type": "stream",
     "text": [
      "{'Mercury': 'M', 'Venus': 'V', 'Earth': 'E', 'Mars': 'M', 'Jupiter': 'J', 'Saturn': 'S', 'Uranus': 'U', 'Neptune': 'N'}\n",
      "{'Mercury': 7, 'Venus': 5, 'Earth': 5, 'Mars': 4, 'Jupiter': 7, 'Saturn': 6, 'Uranus': 6, 'Neptune': 7}\n"
     ]
    }
   ],
   "source": [
    "planetsName = ['Mercury', 'Venus', 'Earth', 'Mars', 'Jupiter', 'Saturn', 'Uranus', 'Neptune']\n",
    "planet_initial = {planet: planet[0] for planet in planetsName}\n",
    "planet_length = {planet: len(planet) for planet in planetsName}\n",
    "print(planet_initial)\n",
    "print(planet_length)"
   ]
  },
  {
   "cell_type": "markdown",
   "metadata": {},
   "source": [
    "# some operations"
   ]
  },
  {
   "cell_type": "code",
   "execution_count": 11,
   "metadata": {},
   "outputs": [
    {
     "data": {
      "text/plain": [
       "True"
      ]
     },
     "execution_count": 11,
     "metadata": {},
     "output_type": "execute_result"
    }
   ],
   "source": [
    "\"Venus\" in planet_initial "
   ]
  },
  {
   "cell_type": "code",
   "execution_count": 12,
   "metadata": {},
   "outputs": [
    {
     "data": {
      "text/plain": [
       "False"
      ]
     },
     "execution_count": 12,
     "metadata": {},
     "output_type": "execute_result"
    }
   ],
   "source": [
    "\"Venues\" in planet_initial "
   ]
  },
  {
   "cell_type": "code",
   "execution_count": 13,
   "metadata": {},
   "outputs": [
    {
     "data": {
      "text/plain": [
       "dict_keys(['Mercury', 'Venus', 'Earth', 'Mars', 'Jupiter', 'Saturn', 'Uranus', 'Neptune'])"
      ]
     },
     "execution_count": 13,
     "metadata": {},
     "output_type": "execute_result"
    }
   ],
   "source": [
    "planet_initial.keys()"
   ]
  },
  {
   "cell_type": "code",
   "execution_count": 14,
   "metadata": {},
   "outputs": [
    {
     "data": {
      "text/plain": [
       "dict_values(['M', 'V', 'E', 'M', 'J', 'S', 'U', 'N'])"
      ]
     },
     "execution_count": 14,
     "metadata": {},
     "output_type": "execute_result"
    }
   ],
   "source": [
    "planet_initial.values()"
   ]
  },
  {
   "cell_type": "code",
   "execution_count": 15,
   "metadata": {},
   "outputs": [
    {
     "name": "stdout",
     "output_type": "stream",
     "text": [
      "Mercury : M\n",
      "Venus : V\n",
      "Earth : E\n",
      "Mars : M\n",
      "Jupiter : J\n",
      "Saturn : S\n",
      "Uranus : U\n",
      "Neptune : N\n"
     ]
    }
   ],
   "source": [
    "for key in planet_initial:\n",
    "    print(f\"{key} : {planet_initial[key]}\")"
   ]
  },
  {
   "cell_type": "code",
   "execution_count": 16,
   "metadata": {},
   "outputs": [
    {
     "name": "stdout",
     "output_type": "stream",
     "text": [
      " Mercury starts with : M\n",
      "   Venus starts with : V\n",
      "   Earth starts with : E\n",
      "    Mars starts with : M\n",
      " Jupiter starts with : J\n",
      "  Saturn starts with : S\n",
      "  Uranus starts with : U\n",
      " Neptune starts with : N\n"
     ]
    }
   ],
   "source": [
    "for key, value in planet_initial.items():\n",
    "    print(f\"{key.rjust(8)} starts with : {value}\")"
   ]
  },
  {
   "cell_type": "code",
   "execution_count": 17,
   "metadata": {},
   "outputs": [
    {
     "name": "stdout",
     "output_type": "stream",
     "text": [
      "Earth | Jupiter | Mars | Mercury | Neptune | Saturn | Uranus | Venus\n",
      "E | J | M | M | N | S | U | V\n"
     ]
    }
   ],
   "source": [
    "print(\" | \".join(sorted(planet_initial.keys())))\n",
    "print(\" | \".join(sorted(planet_initial.values())))"
   ]
  }
 ],
 "metadata": {
  "kernelspec": {
   "display_name": "Python 3",
   "language": "python",
   "name": "python3"
  },
  "language_info": {
   "codemirror_mode": {
    "name": "ipython",
    "version": 3
   },
   "file_extension": ".py",
   "mimetype": "text/x-python",
   "name": "python",
   "nbconvert_exporter": "python",
   "pygments_lexer": "ipython3",
   "version": "3.7.3"
  }
 },
 "nbformat": 4,
 "nbformat_minor": 2
}
