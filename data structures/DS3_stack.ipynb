{
  "cells": [
    {
      "cell_type": "markdown",
      "metadata": {
        "colab_type": "text",
        "id": "view-in-github"
      },
      "source": [
        "<a href=\"https://colab.research.google.com/github/KamrulSh/Python_Practice/blob/master/P16_stack.ipynb\" target=\"_parent\"><img src=\"https://colab.research.google.com/assets/colab-badge.svg\" alt=\"Open In Colab\"/></a>\n"
      ]
    },
    {
      "cell_type": "markdown",
      "metadata": {
        "id": "4t356i-fglCo"
      },
      "source": [
        "# stack implementation using list (method 1)\n"
      ]
    },
    {
      "cell_type": "code",
      "execution_count": 1,
      "metadata": {
        "colab": {
          "base_uri": "https://localhost:8080/"
        },
        "id": "UUmhGt92gDT2",
        "outputId": "bd31bcf4-c4d6-4327-a3ce-81b981771a40"
      },
      "outputs": [
        {
          "name": "stdout",
          "output_type": "stream",
          "text": [
            "Initial stack:\n",
            "['a', 'b']\n",
            "Elements poped from stack:\n",
            "b\n",
            "a\n",
            "Stack after elements are poped:\n",
            "[]\n"
          ]
        }
      ],
      "source": [
        "stack = []\n",
        "\n",
        "# append() function to push\n",
        "# element in the stack\n",
        "stack.append('a')\n",
        "stack.append('b')\n",
        "print('Initial stack:')\n",
        "print(stack)\n",
        "\n",
        "# pop() fucntion to pop\n",
        "# element from stack in\n",
        "# LIFO order\n",
        "print('Elements poped from stack:')\n",
        "print(stack.pop())\n",
        "print(stack.pop())\n",
        "print('Stack after elements are poped:')\n",
        "print(stack)\n",
        "# print(stack.pop())\n"
      ]
    },
    {
      "cell_type": "markdown",
      "metadata": {},
      "source": [
        "## stack implementation using list (method 2)\n"
      ]
    },
    {
      "cell_type": "code",
      "execution_count": 2,
      "metadata": {},
      "outputs": [
        {
          "name": "stdout",
          "output_type": "stream",
          "text": [
            "push: 1\n",
            "push: 2\n",
            "[1, 2]\n",
            "pop: 2\n",
            "pop: 1\n",
            "pop: No element in the Stack\n",
            "[]\n",
            "peek: No element in the Stack\n",
            "push: 3\n",
            "push: 4\n",
            "[3, 4]\n",
            "peek: 4\n"
          ]
        }
      ],
      "source": [
        "class Stack:\n",
        "    def __init__(self):\n",
        "        self.stack = []\n",
        "\n",
        "    # Use list append method to push element\n",
        "    def push(self, val):\n",
        "        self.stack.append(val)\n",
        "        return val\n",
        "\n",
        "    # Stack is empty when stack size is 0\n",
        "    def isEmpty(self):\n",
        "        return len(self.stack) == 0\n",
        "\n",
        "    # Use list pop method to remove element\n",
        "    def pop(self):\n",
        "        if self.isEmpty():\n",
        "            return (\"No element in the Stack\")\n",
        "        else:\n",
        "            return self.stack.pop()\n",
        "\n",
        "    # Use peek to look at the top of the stack\n",
        "    def peek(self):\n",
        "        if self.isEmpty():\n",
        "            return (\"No element in the Stack\")\n",
        "        else:\n",
        "            return self.stack[-1]\n",
        "\n",
        "    def print(self):\n",
        "        return self.stack\n",
        "\n",
        "\n",
        "stack = Stack()\n",
        "print(\"push:\", stack.push(1))\n",
        "print(\"push:\", stack.push(2))\n",
        "print(stack.print())\n",
        "print(\"pop:\", stack.pop())\n",
        "print(\"pop:\", stack.pop())\n",
        "print(\"pop:\", stack.pop())\n",
        "print(stack.print())\n",
        "print(\"peek:\", stack.peek())\n",
        "print(\"push:\", stack.push(3))\n",
        "print(\"push:\", stack.push(4))\n",
        "print(stack.print())\n",
        "print(\"peek:\", stack.peek())\n"
      ]
    },
    {
      "cell_type": "markdown",
      "metadata": {},
      "source": [
        "### stack implementation using list (method 3)\n"
      ]
    },
    {
      "cell_type": "code",
      "execution_count": 3,
      "metadata": {},
      "outputs": [
        {
          "name": "stdout",
          "output_type": "stream",
          "text": [
            "push: 1\n",
            "push: 2\n",
            "[1, 2, None]\n",
            "pop: 2\n",
            "pop: 1\n",
            "[None, None, None]\n",
            "pop: Stack underflow\n",
            "peek: Stack empty\n",
            "push: 3\n",
            "push: 4\n",
            "push: 5\n",
            "push: Stack overflow\n",
            "[3, 4, 5]\n",
            "peek: 5\n"
          ]
        }
      ],
      "source": [
        "class Stack:\n",
        "    def __init__(self, size):\n",
        "        self.stack = [None] * size\n",
        "        self.size = size\n",
        "        self.top = -1\n",
        "\n",
        "    # Use list append method to push element\n",
        "    def push(self, val):\n",
        "        if self.isFull():\n",
        "            return (\"Stack overflow\")\n",
        "        else:\n",
        "            self.top += 1\n",
        "            self.stack[self.top] = val\n",
        "            return val\n",
        "\n",
        "    # Stack is full when self.size is equal to top + 1\n",
        "    def isFull(self):\n",
        "        return self.size == self.top + 1\n",
        "\n",
        "    # Stack is empty when top is -1\n",
        "    def isEmpty(self):\n",
        "        return self.top == -1\n",
        "        # OR return self.size() == 0\n",
        "\n",
        "    # Use list pop method to remove element and set as None\n",
        "    def pop(self):\n",
        "        if self.isEmpty():\n",
        "            return (\"Stack underflow\")\n",
        "        else:\n",
        "            topVal = self.stack[self.top]\n",
        "            self.stack[self.top] = None\n",
        "            self.top -= 1\n",
        "            return topVal\n",
        "\n",
        "    # Use peek to look at the top of the stack\n",
        "    def peek(self):\n",
        "        if self.isEmpty():\n",
        "            return (\"Stack empty\")\n",
        "        else:\n",
        "            return self.stack[self.top]\n",
        "\n",
        "    # Stack size\n",
        "    def size(self):\n",
        "        return self.top + 1\n",
        "\n",
        "    def print(self):\n",
        "        return self.stack\n",
        "\n",
        "\n",
        "stack = Stack(3)\n",
        "print(\"push:\", stack.push(1))\n",
        "print(\"push:\", stack.push(2))\n",
        "print(stack.print())\n",
        "print(\"pop:\", stack.pop())\n",
        "print(\"pop:\", stack.pop())\n",
        "print(stack.print())\n",
        "print(\"pop:\", stack.pop())\n",
        "print(\"peek:\", stack.peek())\n",
        "print(\"push:\", stack.push(3))\n",
        "print(\"push:\", stack.push(4))\n",
        "print(\"push:\", stack.push(5))\n",
        "print(\"push:\", stack.push(6))\n",
        "print(stack.print())\n",
        "print(\"peek:\", stack.peek())\n"
      ]
    },
    {
      "cell_type": "markdown",
      "metadata": {
        "id": "Xy1AWoK4hz9x"
      },
      "source": [
        "# **using collections.deque**\n"
      ]
    },
    {
      "cell_type": "code",
      "execution_count": 4,
      "metadata": {
        "colab": {
          "base_uri": "https://localhost:8080/"
        },
        "id": "BRPPArF4gxZd",
        "outputId": "bfa09157-ac9b-4f4e-aa7c-6de28f744313"
      },
      "outputs": [
        {
          "name": "stdout",
          "output_type": "stream",
          "text": [
            "deque([1, 2, 3])\n",
            "pop: 3\n",
            "deque([11, 1, 2])\n",
            "deque([11, 1, 2, 12])\n",
            "popleft: 11\n",
            "deque([1, 2, 12])\n",
            "peek: 12\n",
            "pop: 12\n",
            "deque([1, 2])\n",
            "popleft: 1\n",
            "deque([2])\n"
          ]
        }
      ],
      "source": [
        "from collections import deque\n",
        "stack = deque()\n",
        "\n",
        "# append() function to push element in the stack\n",
        "stack.append(1)\n",
        "stack.append(2)\n",
        "stack.append(3)\n",
        "print(stack)\n",
        "# pop() fucntion to pop element from stack in LIFO order\n",
        "print(\"pop:\", stack.pop())\n",
        "# appendleft() function to push element in the left side of the stack\n",
        "stack.appendleft(11)\n",
        "print(stack)\n",
        "stack.append(12)\n",
        "print(stack)\n",
        "print(\"popleft:\", stack.popleft())\n",
        "print(stack)\n",
        "print(\"peek:\", stack[-1])\n",
        "print(\"pop:\", stack.pop())\n",
        "print(stack)\n",
        "print(\"popleft:\", stack.popleft())\n",
        "print(stack)\n"
      ]
    },
    {
      "cell_type": "markdown",
      "metadata": {
        "id": "rUDFj86FkVKN"
      },
      "source": [
        "# **using queue module**\n"
      ]
    },
    {
      "cell_type": "code",
      "execution_count": 5,
      "metadata": {
        "colab": {
          "base_uri": "https://localhost:8080/"
        },
        "id": "1eIVJG-VlOHv",
        "outputId": "b425d3c2-5dcd-4652-dab8-6718f94382d1"
      },
      "outputs": [
        {
          "name": "stdout",
          "output_type": "stream",
          "text": [
            "Size: 0\n",
            "Full: False\n",
            "Full: True\n",
            "Size: 3\n",
            "pop: 3\n",
            "pop: 2\n",
            "pop: 1\n",
            "Empty: True\n"
          ]
        }
      ],
      "source": [
        "from queue import LifoQueue\n",
        "\n",
        "stack = LifoQueue(maxsize=3)\n",
        "# qsize() show the number of elements in the stack\n",
        "print(\"Size:\", stack.qsize())\n",
        "# put() function to push element in the stack\n",
        "stack.put(1)\n",
        "print(\"Full:\", stack.full())\n",
        "stack.put(2)\n",
        "stack.put(3)\n",
        "print(\"Full:\", stack.full())\n",
        "print(\"Size:\", stack.qsize())\n",
        "# get() fucntion to pop element from stack in LIFO order\n",
        "print(\"pop:\", stack.get())\n",
        "print(\"pop:\", stack.get())\n",
        "print(\"pop:\", stack.get())\n",
        "print(\"Empty:\", stack.empty())\n"
      ]
    },
    {
      "cell_type": "markdown",
      "metadata": {
        "id": "Td8pE0BonR2v"
      },
      "source": [
        "# **using singly linked list**\n"
      ]
    },
    {
      "cell_type": "code",
      "execution_count": 6,
      "metadata": {
        "colab": {
          "base_uri": "https://localhost:8080/"
        },
        "id": "IpxaHAtgnVrL",
        "outputId": "be8dbed3-dfc6-4474-d2a4-ad5e16212ec6"
      },
      "outputs": [
        {
          "name": "stdout",
          "output_type": "stream",
          "text": [
            "Push: 1 | 1->None\n",
            "Push: 2 | 2->1->None\n",
            "Push: 3 | 3->2->1->None\n",
            "Push: 4 | 4->3->2->1->None\n",
            "Peek: 4\n",
            "Pop: 4 | 3->2->1->None\n",
            "Pop: 3 | 2->1->None\n",
            "Pop: 2 | 1->None\n",
            "Pop: 1 | None\n",
            "Pop: Empty stack | None\n",
            "Peek: Empty stack\n"
          ]
        }
      ],
      "source": [
        "# Python program to demonstrate\n",
        "# stack implementation using a linked list.\n",
        "# node class\n",
        "class StackNode:\n",
        "    def __init__(self, value):\n",
        "        self.value = value\n",
        "        self.next = None\n",
        "\n",
        "\n",
        "class Stack:\n",
        "    def __init__(self):\n",
        "        self.head = None\n",
        "        self.size = 0\n",
        "\n",
        "    # String representation of the stack\n",
        "    def __str__(self):\n",
        "        cur = self.head\n",
        "        out = \"\"\n",
        "        while cur:\n",
        "            out += str(cur.value) + \"->\"\n",
        "            cur = cur.next\n",
        "        out += \"None\"\n",
        "        return out\n",
        "\n",
        "    # Get the current size of the stack\n",
        "    def getSize(self):\n",
        "        return self.size\n",
        "\n",
        "    # Check if the stack is empty\n",
        "    def isEmpty(self):\n",
        "        return self.size == 0\n",
        "\n",
        "    # Get the top item of the stack\n",
        "    def peek(self):\n",
        "        if self.head is None:\n",
        "            return \"Empty stack\"\n",
        "        else:\n",
        "            return self.head.value\n",
        "\n",
        "    # Push a value into the stack.\n",
        "    def push(self, value):\n",
        "        if self.head is None:\n",
        "            self.head = StackNode(value)\n",
        "            self.size += 1\n",
        "        else:\n",
        "            node = StackNode(value)\n",
        "            node.next = self.head\n",
        "            self.head = node\n",
        "            self.size += 1\n",
        "\n",
        "    # Remove a value from the stack and return.\n",
        "    def pop(self):\n",
        "        if self.head:\n",
        "            remove = self.head\n",
        "            self.head = self.head.next\n",
        "            self.size -= 1\n",
        "            return remove.value\n",
        "        else:\n",
        "            return \"Empty stack\"\n",
        "\n",
        "\n",
        "# Driver Code\n",
        "if __name__ == \"__main__\":\n",
        "    stack = Stack()\n",
        "    for i in range(1, 5):\n",
        "        stack.push(i)\n",
        "        print(f\"Push: {i} | {stack}\")\n",
        "    print(\"Peek:\", stack.peek())\n",
        "    for _ in range(1, 6):\n",
        "        remove = stack.pop()\n",
        "        print(f\"Pop: {remove} | {stack}\")\n",
        "    print(\"Peek:\", stack.peek())\n"
      ]
    }
  ],
  "metadata": {
    "colab": {
      "authorship_tag": "ABX9TyPNDr3ZLY3Ej/nk+jEWCd7F",
      "collapsed_sections": [],
      "include_colab_link": true,
      "name": "P16_stack.ipynb",
      "provenance": []
    },
    "kernelspec": {
      "display_name": "Python 3",
      "name": "python3"
    },
    "language_info": {
      "codemirror_mode": {
        "name": "ipython",
        "version": 3
      },
      "file_extension": ".py",
      "mimetype": "text/x-python",
      "name": "python",
      "nbconvert_exporter": "python",
      "pygments_lexer": "ipython3",
      "version": "3.10.1"
    }
  },
  "nbformat": 4,
  "nbformat_minor": 0
}
