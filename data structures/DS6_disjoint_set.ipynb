{
 "cells": [
  {
   "cell_type": "markdown",
   "metadata": {},
   "source": [
    "### Quick Find - Disjoint Set\n"
   ]
  },
  {
   "cell_type": "code",
   "execution_count": 1,
   "metadata": {},
   "outputs": [
    {
     "name": "stdout",
     "output_type": "stream",
     "text": [
      "[0, 1, 2, 3, 4, 5, 6, 7, 8, 9]\n",
      "[0, 1, 1, 3, 4, 5, 6, 7, 8, 9]\n",
      "[0, 1, 1, 3, 4, 1, 6, 7, 8, 9]\n",
      "[0, 1, 1, 3, 4, 1, 1, 7, 8, 9]\n",
      "[0, 1, 1, 3, 4, 1, 1, 1, 8, 9]\n",
      "[0, 1, 1, 3, 4, 1, 1, 1, 3, 9]\n",
      "[0, 1, 1, 3, 4, 1, 1, 1, 3, 3]\n",
      "True\n",
      "True\n",
      "False\n",
      "[0, 1, 1, 3, 3, 1, 1, 1, 3, 3]\n",
      "True\n"
     ]
    }
   ],
   "source": [
    "class UnionFind:\n",
    "\n",
    "    def __init__(self, size):\n",
    "        self.root = [i for i in range(size)]\n",
    "\n",
    "    def find(self, position):\n",
    "        return self.root[position]\n",
    "\n",
    "    def union(self, x, y):\n",
    "        rootX = self.find(x)\n",
    "        rootY = self.find(y)\n",
    "        if rootX != rootY:\n",
    "            for i in range(len(self.root)):\n",
    "                if self.root[i] == rootY:\n",
    "                    self.root[i] = rootX\n",
    "        print(self.root)\n",
    "\n",
    "    def connected(self, x, y):\n",
    "        return self.find(x) == self.find(y)\n",
    "\n",
    "\n",
    "# 1-2-5-6-7 3-8-9 4\n",
    "uf = UnionFind(10)\n",
    "print(uf.root)\n",
    "uf.union(1, 2)\n",
    "uf.union(2, 5)\n",
    "uf.union(5, 6)\n",
    "uf.union(6, 7)\n",
    "uf.union(3, 8)\n",
    "uf.union(8, 9)\n",
    "print(uf.connected(1, 5))  # true\n",
    "print(uf.connected(5, 7))  # true\n",
    "print(uf.connected(4, 9))  # false\n",
    "# 1-2-5-6-7 3-8-9-4\n",
    "uf.union(9, 4)\n",
    "print(uf.connected(4, 9))  # true"
   ]
  },
  {
   "cell_type": "markdown",
   "metadata": {},
   "source": [
    "### Quick Union - Disjoint Set"
   ]
  },
  {
   "cell_type": "code",
   "execution_count": 2,
   "metadata": {},
   "outputs": [
    {
     "name": "stdout",
     "output_type": "stream",
     "text": [
      "[0, 1, 2, 3, 4, 5, 6, 7, 8, 9]\n",
      "[0, 1, 1, 3, 4, 5, 6, 7, 8, 9]\n",
      "[0, 1, 1, 3, 4, 1, 6, 7, 8, 9]\n",
      "[0, 1, 1, 3, 4, 1, 1, 7, 8, 9]\n",
      "[0, 1, 1, 3, 4, 1, 1, 1, 8, 9]\n",
      "[0, 1, 1, 3, 4, 1, 1, 1, 3, 9]\n",
      "[0, 1, 1, 3, 4, 1, 1, 1, 3, 3]\n",
      "True\n",
      "True\n",
      "False\n",
      "[0, 1, 1, 3, 3, 1, 1, 1, 3, 3]\n",
      "True\n"
     ]
    }
   ],
   "source": [
    "class UnionFind:\n",
    "\n",
    "    def __init__(self, size):\n",
    "        self.root = [i for i in range(size)]\n",
    "\n",
    "    def find(self, position):\n",
    "        while position != self.root[position]:\n",
    "            position = self.root[position]\n",
    "        return position\n",
    "        \n",
    "\n",
    "    def union(self, x, y):\n",
    "        rootX = self.find(x)\n",
    "        rootY = self.find(y)\n",
    "        if rootX != rootY:\n",
    "            self.root[rootY] = rootX\n",
    "        \n",
    "        print(self.root)\n",
    "\n",
    "    def connected(self, x, y):\n",
    "        return self.find(x) == self.find(y)\n",
    "\n",
    "\n",
    "# 1-2-5-6-7 3-8-9 4\n",
    "uf = UnionFind(10)\n",
    "print(uf.root)\n",
    "uf.union(1, 2)\n",
    "uf.union(2, 5)\n",
    "uf.union(5, 6)\n",
    "uf.union(6, 7)\n",
    "uf.union(3, 8)\n",
    "uf.union(8, 9)\n",
    "print(uf.connected(1, 5))  # true\n",
    "print(uf.connected(5, 7))  # true\n",
    "print(uf.connected(4, 9))  # false\n",
    "# 1-2-5-6-7 3-8-9-4\n",
    "uf.union(9, 4)\n",
    "print(uf.connected(4, 9))  # true"
   ]
  },
  {
   "cell_type": "markdown",
   "metadata": {},
   "source": [
    "### Union by Rank - Disjoint Set"
   ]
  },
  {
   "cell_type": "code",
   "execution_count": 3,
   "metadata": {},
   "outputs": [
    {
     "name": "stdout",
     "output_type": "stream",
     "text": [
      "[0, 1, 2, 3, 4, 5, 6, 7, 8, 9] [1, 1, 1, 1, 1, 1, 1, 1, 1, 1]\n",
      "[0, 1, 1, 3, 4, 5, 6, 7, 8, 9] [1, 2, 1, 1, 1, 1, 1, 1, 1, 1]\n",
      "[0, 1, 1, 3, 4, 1, 6, 7, 8, 9] [1, 2, 1, 1, 1, 1, 1, 1, 1, 1]\n",
      "[0, 1, 1, 3, 4, 1, 1, 7, 8, 9] [1, 2, 1, 1, 1, 1, 1, 1, 1, 1]\n",
      "[0, 1, 1, 3, 4, 1, 1, 1, 8, 9] [1, 2, 1, 1, 1, 1, 1, 1, 1, 1]\n",
      "[0, 1, 1, 3, 4, 1, 1, 1, 3, 9] [1, 2, 1, 2, 1, 1, 1, 1, 1, 1]\n",
      "[0, 1, 1, 3, 4, 1, 1, 1, 3, 3] [1, 2, 1, 2, 1, 1, 1, 1, 1, 1]\n",
      "True\n",
      "True\n",
      "False\n",
      "[0, 1, 1, 3, 3, 1, 1, 1, 3, 3] [1, 2, 1, 2, 1, 1, 1, 1, 1, 1]\n",
      "True\n",
      "[0, 1, 1, 1, 3, 1, 1, 1, 3, 3] [1, 3, 1, 2, 1, 1, 1, 1, 1, 1]\n"
     ]
    }
   ],
   "source": [
    "class UnionFind:\n",
    "\n",
    "    def __init__(self, size):\n",
    "        self.root = [i for i in range(size)]\n",
    "        self.rank = [1] * size\n",
    "\n",
    "    def find(self, position):\n",
    "        while position != self.root[position]:\n",
    "            position = self.root[position]\n",
    "        return position\n",
    "        \n",
    "\n",
    "    def union(self, x, y):\n",
    "        rootX = self.find(x)\n",
    "        rootY = self.find(y)\n",
    "        if rootX != rootY:\n",
    "            if self.rank[rootX] > self.rank[rootY]:\n",
    "                self.root[rootY] = rootX\n",
    "            elif self.rank[rootX] < self.rank[rootY]:\n",
    "                self.root[rootX] = rootY\n",
    "            else:\n",
    "                self.root[rootY] = rootX\n",
    "                self.rank[rootX] += 1\n",
    "        \n",
    "        print(self.root, self.rank)\n",
    "\n",
    "    def connected(self, x, y):\n",
    "        return self.find(x) == self.find(y)\n",
    "\n",
    "\n",
    "# 1-2-5-6-7 3-8-9 4\n",
    "uf = UnionFind(10)\n",
    "print(uf.root, uf.rank)\n",
    "uf.union(1, 2)\n",
    "uf.union(2, 5)\n",
    "uf.union(5, 6)\n",
    "uf.union(6, 7)\n",
    "uf.union(3, 8)\n",
    "uf.union(8, 9)\n",
    "print(uf.connected(1, 5))  # true\n",
    "print(uf.connected(5, 7))  # true\n",
    "print(uf.connected(4, 9))  # false\n",
    "# 1-2-5-6-7 3-8-9-4\n",
    "uf.union(9, 4)\n",
    "print(uf.connected(4, 9))  # true\n",
    "uf.union(2, 4)"
   ]
  },
  {
   "cell_type": "markdown",
   "metadata": {},
   "source": [
    "### Path Compression Optimization - Disjoint Sets (Recursion)"
   ]
  },
  {
   "cell_type": "code",
   "execution_count": 4,
   "metadata": {},
   "outputs": [
    {
     "name": "stdout",
     "output_type": "stream",
     "text": [
      "[0, 1, 2, 3, 4, 5, 6, 7, 8, 9]\n",
      "[0, 1, 1, 3, 4, 5, 6, 7, 8, 9]\n",
      "[0, 1, 1, 3, 4, 1, 6, 7, 8, 9]\n",
      "[0, 1, 1, 3, 4, 1, 1, 7, 8, 9]\n",
      "[0, 1, 1, 3, 4, 1, 1, 1, 8, 9]\n",
      "[0, 1, 1, 3, 4, 1, 1, 1, 3, 9]\n",
      "[0, 1, 1, 3, 4, 1, 1, 1, 3, 3]\n",
      "True\n",
      "True\n",
      "False\n",
      "[0, 1, 1, 3, 3, 1, 1, 1, 3, 3]\n",
      "True\n"
     ]
    }
   ],
   "source": [
    "class UnionFind:\n",
    "\n",
    "    def __init__(self, size):\n",
    "        self.root = [i for i in range(size)]\n",
    "\n",
    "    def find(self, position):\n",
    "        if position == self.root[position]:\n",
    "            return position\n",
    "        self.root[position] = self.find(self.root[position])\n",
    "        return self.root[position]\n",
    "        \n",
    "\n",
    "    def union(self, x, y):\n",
    "        rootX = self.find(x)\n",
    "        rootY = self.find(y)\n",
    "        if rootX != rootY:\n",
    "            self.root[rootY] = rootX\n",
    "        \n",
    "        print(self.root)\n",
    "\n",
    "    def connected(self, x, y):\n",
    "        return self.find(x) == self.find(y)\n",
    "\n",
    "\n",
    "# 1-2-5-6-7 3-8-9 4\n",
    "uf = UnionFind(10)\n",
    "print(uf.root)\n",
    "uf.union(1, 2)\n",
    "uf.union(2, 5)\n",
    "uf.union(5, 6)\n",
    "uf.union(6, 7)\n",
    "uf.union(3, 8)\n",
    "uf.union(8, 9)\n",
    "print(uf.connected(1, 5))  # true\n",
    "print(uf.connected(5, 7))  # true\n",
    "print(uf.connected(4, 9))  # false\n",
    "# 1-2-5-6-7 3-8-9-4\n",
    "uf.union(9, 4)\n",
    "print(uf.connected(4, 9))  # true"
   ]
  },
  {
   "cell_type": "markdown",
   "metadata": {},
   "source": [
    "### Optimized “disjoint set” with Path Compression and Union by Rank"
   ]
  },
  {
   "cell_type": "code",
   "execution_count": 5,
   "metadata": {},
   "outputs": [
    {
     "name": "stdout",
     "output_type": "stream",
     "text": [
      "[0, 1, 2, 3, 4, 5, 6, 7, 8, 9]\n",
      "[0, 1, 1, 3, 4, 5, 6, 7, 8, 9] [1, 2, 1, 1, 1, 1, 1, 1, 1, 1]\n",
      "[0, 1, 1, 3, 4, 1, 6, 7, 8, 9] [1, 2, 1, 1, 1, 1, 1, 1, 1, 1]\n",
      "[0, 1, 1, 3, 4, 1, 1, 7, 8, 9] [1, 2, 1, 1, 1, 1, 1, 1, 1, 1]\n",
      "[0, 1, 1, 3, 4, 1, 1, 1, 8, 9] [1, 2, 1, 1, 1, 1, 1, 1, 1, 1]\n",
      "[0, 1, 1, 3, 4, 1, 1, 1, 3, 9] [1, 2, 1, 2, 1, 1, 1, 1, 1, 1]\n",
      "[0, 1, 1, 3, 4, 1, 1, 1, 3, 3] [1, 2, 1, 2, 1, 1, 1, 1, 1, 1]\n",
      "True\n",
      "True\n",
      "False\n",
      "[0, 1, 1, 3, 3, 1, 1, 1, 3, 3] [1, 2, 1, 2, 1, 1, 1, 1, 1, 1]\n",
      "True\n"
     ]
    }
   ],
   "source": [
    "class UnionFind:\n",
    "\n",
    "    def __init__(self, size):\n",
    "        self.root = [i for i in range(size)]\n",
    "        self.rank = [1] * size\n",
    "\n",
    "    def find(self, position):\n",
    "        if position == self.root[position]:\n",
    "            return position\n",
    "        self.root[position] = self.find(self.root[position])\n",
    "        return self.root[position]\n",
    "\n",
    "    def union(self, x, y):\n",
    "        rootX = self.find(x)\n",
    "        rootY = self.find(y)\n",
    "        if rootX != rootY:\n",
    "            if self.rank[rootX] > self.rank[rootY]:\n",
    "                self.root[rootY] = rootX\n",
    "            elif self.rank[rootX] < self.rank[rootY]:\n",
    "                self.root[rootX] = rootY\n",
    "            else:\n",
    "                self.root[rootY] = rootX\n",
    "                self.rank[rootX] += 1\n",
    "        print(self.root, self.rank)\n",
    "\n",
    "    def connected(self, x, y):\n",
    "        return self.find(x) == self.find(y)\n",
    "\n",
    "# 1-2-5-6-7 3-8-9 4\n",
    "uf = UnionFind(10)\n",
    "print(uf.root)\n",
    "uf.union(1, 2)\n",
    "uf.union(2, 5)\n",
    "uf.union(5, 6)\n",
    "uf.union(6, 7)\n",
    "uf.union(3, 8)\n",
    "uf.union(8, 9)\n",
    "print(uf.connected(1, 5))  # true\n",
    "print(uf.connected(5, 7))  # true\n",
    "print(uf.connected(4, 9))  # false\n",
    "# 1-2-5-6-7 3-8-9-4\n",
    "uf.union(9, 4)\n",
    "print(uf.connected(4, 9))  # true"
   ]
  }
 ],
 "metadata": {
  "interpreter": {
   "hash": "7e1998ff7f8aa20ada591c520b972326324e5ea05489af9e422744c7c09f6dad"
  },
  "kernelspec": {
   "display_name": "Python 3.10.1 64-bit",
   "language": "python",
   "name": "python3"
  },
  "language_info": {
   "codemirror_mode": {
    "name": "ipython",
    "version": 3
   },
   "file_extension": ".py",
   "mimetype": "text/x-python",
   "name": "python",
   "nbconvert_exporter": "python",
   "pygments_lexer": "ipython3",
   "version": "3.10.1"
  },
  "orig_nbformat": 4
 },
 "nbformat": 4,
 "nbformat_minor": 2
}
